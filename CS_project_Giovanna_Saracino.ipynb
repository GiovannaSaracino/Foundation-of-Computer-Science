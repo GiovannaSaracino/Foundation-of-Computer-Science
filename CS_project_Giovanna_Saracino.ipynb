{
 "cells": [
  {
   "cell_type": "markdown",
   "metadata": {
    "colab_type": "text",
    "id": "qaGsjMJSLukc"
   },
   "source": [
    "# **FOUNDATION OF COMPUTER SCIENCE PROJECT** \n",
    "\n",
    "### University of Milan - Bicocca\n",
    "### Data Science\n",
    "Giovanna Saracino matricola **841799**"
   ]
  },
  {
   "cell_type": "code",
   "execution_count": 1,
   "metadata": {
    "colab": {},
    "colab_type": "code",
    "executionInfo": {
     "elapsed": 827,
     "status": "ok",
     "timestamp": 1594999568524,
     "user": {
      "displayName": "Giovanna Saracino",
      "photoUrl": "https://lh3.googleusercontent.com/a-/AOh14GjOgaqMg6QF02c0He6UQ1Y885ln_mhB1hDVn9BW=s64",
      "userId": "03527749062297138909"
     },
     "user_tz": -120
    },
    "id": "MkGTz9NxL2mQ"
   },
   "outputs": [],
   "source": [
    "import pandas as pd\n",
    "import numpy as np\n",
    "import datetime\n",
    "import random"
   ]
  },
  {
   "cell_type": "code",
   "execution_count": 2,
   "metadata": {
    "colab": {},
    "colab_type": "code",
    "executionInfo": {
     "elapsed": 77284,
     "status": "ok",
     "timestamp": 1594999645165,
     "user": {
      "displayName": "Giovanna Saracino",
      "photoUrl": "https://lh3.googleusercontent.com/a-/AOh14GjOgaqMg6QF02c0He6UQ1Y885ln_mhB1hDVn9BW=s64",
      "userId": "03527749062297138909"
     },
     "user_tz": -120
    },
    "id": "RmiZjBvOL2uu"
   },
   "outputs": [],
   "source": [
    "#import datasets\n",
    "#/content/drive/My Drive/Computer Science/\n",
    "loans_lenders = pd.read_csv('loans_lenders.csv')\n",
    "loans = pd.read_csv('loans.csv')\n",
    "lenders = pd.read_csv('lenders.csv')\n",
    "country_stats = pd.read_csv('country_stats.csv')"
   ]
  },
  {
   "cell_type": "markdown",
   "metadata": {
    "colab_type": "text",
    "id": "mRHmAfhGOMRq"
   },
   "source": [
    "### 1) **Normalize** the loans_lenders table. In the normalized table, each row must have one loan_id and one lender."
   ]
  },
  {
   "cell_type": "markdown",
   "metadata": {
    "colab_type": "text",
    "id": "zpSmtYpZ9PeT"
   },
   "source": [
    "Controllo il dataset *loans_lenders*, limitando l'output alle prime 5 righe."
   ]
  },
  {
   "cell_type": "code",
   "execution_count": 3,
   "metadata": {
    "colab": {
     "base_uri": "https://localhost:8080/",
     "height": 197
    },
    "colab_type": "code",
    "executionInfo": {
     "elapsed": 76886,
     "status": "ok",
     "timestamp": 1594999645168,
     "user": {
      "displayName": "Giovanna Saracino",
      "photoUrl": "https://lh3.googleusercontent.com/a-/AOh14GjOgaqMg6QF02c0He6UQ1Y885ln_mhB1hDVn9BW=s64",
      "userId": "03527749062297138909"
     },
     "user_tz": -120
    },
    "id": "d_M3Bcbl7Rfs",
    "outputId": "12c8b84f-ad5f-4cb5-b56b-1a52c2aa4191"
   },
   "outputs": [
    {
     "data": {
      "text/html": [
       "<div>\n",
       "<style scoped>\n",
       "    .dataframe tbody tr th:only-of-type {\n",
       "        vertical-align: middle;\n",
       "    }\n",
       "\n",
       "    .dataframe tbody tr th {\n",
       "        vertical-align: top;\n",
       "    }\n",
       "\n",
       "    .dataframe thead th {\n",
       "        text-align: right;\n",
       "    }\n",
       "</style>\n",
       "<table border=\"1\" class=\"dataframe\">\n",
       "  <thead>\n",
       "    <tr style=\"text-align: right;\">\n",
       "      <th></th>\n",
       "      <th>loan_id</th>\n",
       "      <th>lenders</th>\n",
       "    </tr>\n",
       "  </thead>\n",
       "  <tbody>\n",
       "    <tr>\n",
       "      <th>0</th>\n",
       "      <td>483693</td>\n",
       "      <td>muc888, sam4326, camaran3922, lachheb1865, reb...</td>\n",
       "    </tr>\n",
       "    <tr>\n",
       "      <th>1</th>\n",
       "      <td>483738</td>\n",
       "      <td>muc888, nora3555, williammanashi, barbara5610,...</td>\n",
       "    </tr>\n",
       "    <tr>\n",
       "      <th>2</th>\n",
       "      <td>485000</td>\n",
       "      <td>muc888, terrystl, richardandsusan8352, sherri4...</td>\n",
       "    </tr>\n",
       "    <tr>\n",
       "      <th>3</th>\n",
       "      <td>486087</td>\n",
       "      <td>muc888, james5068, rudi5955, daniel9859, don92...</td>\n",
       "    </tr>\n",
       "    <tr>\n",
       "      <th>4</th>\n",
       "      <td>534428</td>\n",
       "      <td>muc888, niki3008, teresa9174, mike4896, david7...</td>\n",
       "    </tr>\n",
       "  </tbody>\n",
       "</table>\n",
       "</div>"
      ],
      "text/plain": [
       "   loan_id                                            lenders\n",
       "0   483693  muc888, sam4326, camaran3922, lachheb1865, reb...\n",
       "1   483738  muc888, nora3555, williammanashi, barbara5610,...\n",
       "2   485000  muc888, terrystl, richardandsusan8352, sherri4...\n",
       "3   486087  muc888, james5068, rudi5955, daniel9859, don92...\n",
       "4   534428  muc888, niki3008, teresa9174, mike4896, david7..."
      ]
     },
     "execution_count": 3,
     "metadata": {},
     "output_type": "execute_result"
    }
   ],
   "source": [
    "loans_lenders.head()"
   ]
  },
  {
   "cell_type": "markdown",
   "metadata": {
    "colab_type": "text",
    "id": "TdAErDLM99L2"
   },
   "source": [
    "Si nota che per ogni loan_id ci sono più lenders.\n",
    "\n",
    "Per avere una tabella in cui ogni riga ha un loan_id e un lender, ho bisogno di **dividere l'attributo *lenders*** per avere una lista di lenders e successivamente attraverso la funzione explode() **duplicare gli indici** (loan_id) per avere un loan_id e un lender."
   ]
  },
  {
   "cell_type": "code",
   "execution_count": 4,
   "metadata": {
    "colab": {
     "base_uri": "https://localhost:8080/",
     "height": 407
    },
    "colab_type": "code",
    "executionInfo": {
     "elapsed": 109536,
     "status": "ok",
     "timestamp": 1594999678036,
     "user": {
      "displayName": "Giovanna Saracino",
      "photoUrl": "https://lh3.googleusercontent.com/a-/AOh14GjOgaqMg6QF02c0He6UQ1Y885ln_mhB1hDVn9BW=s64",
      "userId": "03527749062297138909"
     },
     "user_tz": -120
    },
    "id": "-JRmeaBDL2yI",
    "outputId": "09acc8f0-cf69-4162-d44e-bc3dec21d76b"
   },
   "outputs": [
    {
     "data": {
      "text/html": [
       "<div>\n",
       "<style scoped>\n",
       "    .dataframe tbody tr th:only-of-type {\n",
       "        vertical-align: middle;\n",
       "    }\n",
       "\n",
       "    .dataframe tbody tr th {\n",
       "        vertical-align: top;\n",
       "    }\n",
       "\n",
       "    .dataframe thead th {\n",
       "        text-align: right;\n",
       "    }\n",
       "</style>\n",
       "<table border=\"1\" class=\"dataframe\">\n",
       "  <thead>\n",
       "    <tr style=\"text-align: right;\">\n",
       "      <th></th>\n",
       "      <th>loan_id</th>\n",
       "      <th>lenders</th>\n",
       "    </tr>\n",
       "  </thead>\n",
       "  <tbody>\n",
       "    <tr>\n",
       "      <th>0</th>\n",
       "      <td>483693</td>\n",
       "      <td>muc888</td>\n",
       "    </tr>\n",
       "    <tr>\n",
       "      <th>1</th>\n",
       "      <td>483693</td>\n",
       "      <td>sam4326</td>\n",
       "    </tr>\n",
       "    <tr>\n",
       "      <th>2</th>\n",
       "      <td>483693</td>\n",
       "      <td>camaran3922</td>\n",
       "    </tr>\n",
       "    <tr>\n",
       "      <th>3</th>\n",
       "      <td>483693</td>\n",
       "      <td>lachheb1865</td>\n",
       "    </tr>\n",
       "    <tr>\n",
       "      <th>4</th>\n",
       "      <td>483693</td>\n",
       "      <td>rebecca3499</td>\n",
       "    </tr>\n",
       "    <tr>\n",
       "      <th>...</th>\n",
       "      <td>...</td>\n",
       "      <td>...</td>\n",
       "    </tr>\n",
       "    <tr>\n",
       "      <th>28293926</th>\n",
       "      <td>1206425</td>\n",
       "      <td>trogdorfamily7622</td>\n",
       "    </tr>\n",
       "    <tr>\n",
       "      <th>28293927</th>\n",
       "      <td>1206425</td>\n",
       "      <td>danny6470</td>\n",
       "    </tr>\n",
       "    <tr>\n",
       "      <th>28293928</th>\n",
       "      <td>1206425</td>\n",
       "      <td>don6118</td>\n",
       "    </tr>\n",
       "    <tr>\n",
       "      <th>28293929</th>\n",
       "      <td>1206486</td>\n",
       "      <td>alan5175</td>\n",
       "    </tr>\n",
       "    <tr>\n",
       "      <th>28293930</th>\n",
       "      <td>1206486</td>\n",
       "      <td>amy38101311</td>\n",
       "    </tr>\n",
       "  </tbody>\n",
       "</table>\n",
       "<p>28293931 rows × 2 columns</p>\n",
       "</div>"
      ],
      "text/plain": [
       "          loan_id            lenders\n",
       "0          483693             muc888\n",
       "1          483693            sam4326\n",
       "2          483693        camaran3922\n",
       "3          483693        lachheb1865\n",
       "4          483693        rebecca3499\n",
       "...           ...                ...\n",
       "28293926  1206425  trogdorfamily7622\n",
       "28293927  1206425          danny6470\n",
       "28293928  1206425            don6118\n",
       "28293929  1206486           alan5175\n",
       "28293930  1206486        amy38101311\n",
       "\n",
       "[28293931 rows x 2 columns]"
      ]
     },
     "execution_count": 4,
     "metadata": {},
     "output_type": "execute_result"
    }
   ],
   "source": [
    "loans_lenders_normalized = (loans_lenders.set_index(['loan_id'])      #set loan_id as dataframe index\n",
    "                   .apply(lambda x: x.str.split(', ').explode())    #split each lender and then transform each element of a list-like to a row, replicating index values\n",
    "                   .reset_index())                                \n",
    "\n",
    "loans_lenders_normalized"
   ]
  },
  {
   "cell_type": "markdown",
   "metadata": {
    "colab_type": "text",
    "id": "SExVK3LyOmAA"
   },
   "source": [
    "### 2) For each loan, **add a column duration** corresponding to the number of days between the disburse time and the planned expiration time. If any of those two dates is missing, also the duration must be missing."
   ]
  },
  {
   "cell_type": "markdown",
   "metadata": {
    "colab_type": "text",
    "id": "wxcFeXnnCO7u"
   },
   "source": [
    "Controllo il dataset *loans*.\n",
    "\n",
    "Controllo le variabili *disburse_time* e *planned_expiration_time*."
   ]
  },
  {
   "cell_type": "code",
   "execution_count": 5,
   "metadata": {
    "colab": {
     "base_uri": "https://localhost:8080/",
     "height": 567
    },
    "colab_type": "code",
    "executionInfo": {
     "elapsed": 109178,
     "status": "ok",
     "timestamp": 1594999678037,
     "user": {
      "displayName": "Giovanna Saracino",
      "photoUrl": "https://lh3.googleusercontent.com/a-/AOh14GjOgaqMg6QF02c0He6UQ1Y885ln_mhB1hDVn9BW=s64",
      "userId": "03527749062297138909"
     },
     "user_tz": -120
    },
    "id": "AUZ_zvRyCxIj",
    "outputId": "1f596fd7-8f32-47da-b82e-29a15e51dce9"
   },
   "outputs": [
    {
     "data": {
      "text/plain": [
       "Index(['loan_id', 'loan_name', 'original_language', 'description',\n",
       "       'description_translated', 'funded_amount', 'loan_amount', 'status',\n",
       "       'activity_name', 'sector_name', 'loan_use', 'country_code',\n",
       "       'country_name', 'town_name', 'currency_policy',\n",
       "       'currency_exchange_coverage_rate', 'currency', 'partner_id',\n",
       "       'posted_time', 'planned_expiration_time', 'disburse_time',\n",
       "       'raised_time', 'lender_term', 'num_lenders_total',\n",
       "       'num_journal_entries', 'num_bulk_entries', 'tags', 'borrower_genders',\n",
       "       'borrower_pictured', 'repayment_interval', 'distribution_model'],\n",
       "      dtype='object')"
      ]
     },
     "execution_count": 5,
     "metadata": {},
     "output_type": "execute_result"
    }
   ],
   "source": [
    "loans.columns"
   ]
  },
  {
   "cell_type": "code",
   "execution_count": 6,
   "metadata": {},
   "outputs": [
    {
     "data": {
      "text/html": [
       "<div>\n",
       "<style scoped>\n",
       "    .dataframe tbody tr th:only-of-type {\n",
       "        vertical-align: middle;\n",
       "    }\n",
       "\n",
       "    .dataframe tbody tr th {\n",
       "        vertical-align: top;\n",
       "    }\n",
       "\n",
       "    .dataframe thead th {\n",
       "        text-align: right;\n",
       "    }\n",
       "</style>\n",
       "<table border=\"1\" class=\"dataframe\">\n",
       "  <thead>\n",
       "    <tr style=\"text-align: right;\">\n",
       "      <th></th>\n",
       "      <th>planned_expiration_time</th>\n",
       "      <th>disburse_time</th>\n",
       "    </tr>\n",
       "  </thead>\n",
       "  <tbody>\n",
       "    <tr>\n",
       "      <th>0</th>\n",
       "      <td>2014-02-14 03:30:06.000 +0000</td>\n",
       "      <td>2013-12-22 08:00:00.000 +0000</td>\n",
       "    </tr>\n",
       "    <tr>\n",
       "      <th>1</th>\n",
       "      <td>2014-03-26 22:25:07.000 +0000</td>\n",
       "      <td>2013-12-20 08:00:00.000 +0000</td>\n",
       "    </tr>\n",
       "    <tr>\n",
       "      <th>2</th>\n",
       "      <td>2014-02-15 21:10:05.000 +0000</td>\n",
       "      <td>2014-01-09 08:00:00.000 +0000</td>\n",
       "    </tr>\n",
       "    <tr>\n",
       "      <th>3</th>\n",
       "      <td>2014-02-21 03:10:02.000 +0000</td>\n",
       "      <td>2014-01-17 08:00:00.000 +0000</td>\n",
       "    </tr>\n",
       "    <tr>\n",
       "      <th>4</th>\n",
       "      <td>2014-02-13 06:10:02.000 +0000</td>\n",
       "      <td>2013-12-17 08:00:00.000 +0000</td>\n",
       "    </tr>\n",
       "  </tbody>\n",
       "</table>\n",
       "</div>"
      ],
      "text/plain": [
       "         planned_expiration_time                  disburse_time\n",
       "0  2014-02-14 03:30:06.000 +0000  2013-12-22 08:00:00.000 +0000\n",
       "1  2014-03-26 22:25:07.000 +0000  2013-12-20 08:00:00.000 +0000\n",
       "2  2014-02-15 21:10:05.000 +0000  2014-01-09 08:00:00.000 +0000\n",
       "3  2014-02-21 03:10:02.000 +0000  2014-01-17 08:00:00.000 +0000\n",
       "4  2014-02-13 06:10:02.000 +0000  2013-12-17 08:00:00.000 +0000"
      ]
     },
     "execution_count": 6,
     "metadata": {},
     "output_type": "execute_result"
    }
   ],
   "source": [
    "loans[['planned_expiration_time', 'disburse_time']].head()"
   ]
  },
  {
   "cell_type": "markdown",
   "metadata": {
    "colab_type": "text",
    "id": "oVpoL6OaDh21"
   },
   "source": [
    "Per ottenere il numero di giorni tra il *disburse time* e *planned expiration time*, bisogna convertire prima questi attributi in **datetime** e considerare solo il campo data. \n",
    "\n",
    "Successivamente, si applica la **differenza** per trovare il numero di giorni."
   ]
  },
  {
   "cell_type": "code",
   "execution_count": 7,
   "metadata": {
    "colab": {},
    "colab_type": "code",
    "executionInfo": {
     "elapsed": 108837,
     "status": "ok",
     "timestamp": 1594999678040,
     "user": {
      "displayName": "Giovanna Saracino",
      "photoUrl": "https://lh3.googleusercontent.com/a-/AOh14GjOgaqMg6QF02c0He6UQ1Y885ln_mhB1hDVn9BW=s64",
      "userId": "03527749062297138909"
     },
     "user_tz": -120
    },
    "id": "ezg8A18pEu9L"
   },
   "outputs": [],
   "source": [
    "def findDate(df, attr):\n",
    "    return pd.to_datetime(df[attr]).dt.date"
   ]
  },
  {
   "cell_type": "code",
   "execution_count": 8,
   "metadata": {
    "colab": {
     "base_uri": "https://localhost:8080/",
     "height": 407
    },
    "colab_type": "code",
    "executionInfo": {
     "elapsed": 114017,
     "status": "ok",
     "timestamp": 1594999683336,
     "user": {
      "displayName": "Giovanna Saracino",
      "photoUrl": "https://lh3.googleusercontent.com/a-/AOh14GjOgaqMg6QF02c0He6UQ1Y885ln_mhB1hDVn9BW=s64",
      "userId": "03527749062297138909"
     },
     "user_tz": -120
    },
    "id": "1vQpZ2M8FRUV",
    "outputId": "7694ef6d-4b0c-4fda-f683-a599110b7d3c"
   },
   "outputs": [
    {
     "data": {
      "text/html": [
       "<div>\n",
       "<style scoped>\n",
       "    .dataframe tbody tr th:only-of-type {\n",
       "        vertical-align: middle;\n",
       "    }\n",
       "\n",
       "    .dataframe tbody tr th {\n",
       "        vertical-align: top;\n",
       "    }\n",
       "\n",
       "    .dataframe thead th {\n",
       "        text-align: right;\n",
       "    }\n",
       "</style>\n",
       "<table border=\"1\" class=\"dataframe\">\n",
       "  <thead>\n",
       "    <tr style=\"text-align: right;\">\n",
       "      <th></th>\n",
       "      <th>loan_id</th>\n",
       "      <th>duration</th>\n",
       "    </tr>\n",
       "  </thead>\n",
       "  <tbody>\n",
       "    <tr>\n",
       "      <th>0</th>\n",
       "      <td>657307</td>\n",
       "      <td>54 days</td>\n",
       "    </tr>\n",
       "    <tr>\n",
       "      <th>1</th>\n",
       "      <td>657259</td>\n",
       "      <td>96 days</td>\n",
       "    </tr>\n",
       "    <tr>\n",
       "      <th>2</th>\n",
       "      <td>658010</td>\n",
       "      <td>37 days</td>\n",
       "    </tr>\n",
       "    <tr>\n",
       "      <th>3</th>\n",
       "      <td>659347</td>\n",
       "      <td>35 days</td>\n",
       "    </tr>\n",
       "    <tr>\n",
       "      <th>4</th>\n",
       "      <td>656933</td>\n",
       "      <td>58 days</td>\n",
       "    </tr>\n",
       "    <tr>\n",
       "      <th>...</th>\n",
       "      <td>...</td>\n",
       "      <td>...</td>\n",
       "    </tr>\n",
       "    <tr>\n",
       "      <th>1419602</th>\n",
       "      <td>988180</td>\n",
       "      <td>40 days</td>\n",
       "    </tr>\n",
       "    <tr>\n",
       "      <th>1419603</th>\n",
       "      <td>988213</td>\n",
       "      <td>39 days</td>\n",
       "    </tr>\n",
       "    <tr>\n",
       "      <th>1419604</th>\n",
       "      <td>989109</td>\n",
       "      <td>51 days</td>\n",
       "    </tr>\n",
       "    <tr>\n",
       "      <th>1419605</th>\n",
       "      <td>989143</td>\n",
       "      <td>63 days</td>\n",
       "    </tr>\n",
       "    <tr>\n",
       "      <th>1419606</th>\n",
       "      <td>989240</td>\n",
       "      <td>61 days</td>\n",
       "    </tr>\n",
       "  </tbody>\n",
       "</table>\n",
       "<p>1419607 rows × 2 columns</p>\n",
       "</div>"
      ],
      "text/plain": [
       "         loan_id duration\n",
       "0         657307  54 days\n",
       "1         657259  96 days\n",
       "2         658010  37 days\n",
       "3         659347  35 days\n",
       "4         656933  58 days\n",
       "...          ...      ...\n",
       "1419602   988180  40 days\n",
       "1419603   988213  39 days\n",
       "1419604   989109  51 days\n",
       "1419605   989143  63 days\n",
       "1419606   989240  61 days\n",
       "\n",
       "[1419607 rows x 2 columns]"
      ]
     },
     "execution_count": 8,
     "metadata": {},
     "output_type": "execute_result"
    }
   ],
   "source": [
    "loans[\"duration\"] =  findDate(loans, \"planned_expiration_time\") - findDate(loans, \"disburse_time\")\n",
    "\n",
    "#view the head of the table\n",
    "loans[[\"loan_id\", \"duration\"]]"
   ]
  },
  {
   "cell_type": "markdown",
   "metadata": {
    "colab_type": "text",
    "id": "0BdbHL2UyASS"
   },
   "source": [
    "Verifico che, se una delle due date è mancante, anche l'attributo **duration** deve essere *missing*."
   ]
  },
  {
   "cell_type": "code",
   "execution_count": 9,
   "metadata": {
    "colab": {
     "base_uri": "https://localhost:8080/",
     "height": 1000
    },
    "colab_type": "code",
    "executionInfo": {
     "elapsed": 114051,
     "status": "ok",
     "timestamp": 1594999683610,
     "user": {
      "displayName": "Giovanna Saracino",
      "photoUrl": "https://lh3.googleusercontent.com/a-/AOh14GjOgaqMg6QF02c0He6UQ1Y885ln_mhB1hDVn9BW=s64",
      "userId": "03527749062297138909"
     },
     "user_tz": -120
    },
    "id": "cVlVG9pUaYY3",
    "outputId": "a6eb38ec-2e97-4d29-882d-b74b351c65dc",
    "scrolled": true
   },
   "outputs": [
    {
     "data": {
      "text/html": [
       "<div>\n",
       "<style scoped>\n",
       "    .dataframe tbody tr th:only-of-type {\n",
       "        vertical-align: middle;\n",
       "    }\n",
       "\n",
       "    .dataframe tbody tr th {\n",
       "        vertical-align: top;\n",
       "    }\n",
       "\n",
       "    .dataframe thead th {\n",
       "        text-align: right;\n",
       "    }\n",
       "</style>\n",
       "<table border=\"1\" class=\"dataframe\">\n",
       "  <thead>\n",
       "    <tr style=\"text-align: right;\">\n",
       "      <th></th>\n",
       "      <th>planned_expiration_time</th>\n",
       "      <th>disburse_time</th>\n",
       "      <th>duration</th>\n",
       "    </tr>\n",
       "  </thead>\n",
       "  <tbody>\n",
       "    <tr>\n",
       "      <th>64</th>\n",
       "      <td>NaN</td>\n",
       "      <td>2010-11-18 08:00:00.000 +0000</td>\n",
       "      <td>NaT</td>\n",
       "    </tr>\n",
       "    <tr>\n",
       "      <th>65</th>\n",
       "      <td>NaN</td>\n",
       "      <td>2010-11-25 08:00:00.000 +0000</td>\n",
       "      <td>NaT</td>\n",
       "    </tr>\n",
       "    <tr>\n",
       "      <th>66</th>\n",
       "      <td>NaN</td>\n",
       "      <td>2010-11-25 08:00:00.000 +0000</td>\n",
       "      <td>NaT</td>\n",
       "    </tr>\n",
       "    <tr>\n",
       "      <th>67</th>\n",
       "      <td>NaN</td>\n",
       "      <td>2010-11-16 08:00:00.000 +0000</td>\n",
       "      <td>NaT</td>\n",
       "    </tr>\n",
       "    <tr>\n",
       "      <th>69</th>\n",
       "      <td>NaN</td>\n",
       "      <td>2010-11-10 08:00:00.000 +0000</td>\n",
       "      <td>NaT</td>\n",
       "    </tr>\n",
       "  </tbody>\n",
       "</table>\n",
       "</div>"
      ],
      "text/plain": [
       "   planned_expiration_time                  disburse_time duration\n",
       "64                     NaN  2010-11-18 08:00:00.000 +0000      NaT\n",
       "65                     NaN  2010-11-25 08:00:00.000 +0000      NaT\n",
       "66                     NaN  2010-11-25 08:00:00.000 +0000      NaT\n",
       "67                     NaN  2010-11-16 08:00:00.000 +0000      NaT\n",
       "69                     NaN  2010-11-10 08:00:00.000 +0000      NaT"
      ]
     },
     "execution_count": 9,
     "metadata": {},
     "output_type": "execute_result"
    }
   ],
   "source": [
    "loans[(loans[\"disburse_time\"].isnull()) | (loans[\"planned_expiration_time\"].isnull())][['planned_expiration_time', 'disburse_time','duration']].head() #374645 rows"
   ]
  },
  {
   "cell_type": "markdown",
   "metadata": {
    "colab_type": "text",
    "id": "eSXbsTdWO9AO"
   },
   "source": [
    "### 3) Find the **lenders** that have **funded at least twice**."
   ]
  },
  {
   "cell_type": "markdown",
   "metadata": {
    "colab_type": "text",
    "id": "kGSEnGD8HhcV"
   },
   "source": [
    "Nel dataframe loans, è presente lo *status* di ogni loan. Si seleziona solo lo status *funded*."
   ]
  },
  {
   "cell_type": "code",
   "execution_count": 10,
   "metadata": {
    "colab": {
     "base_uri": "https://localhost:8080/",
     "height": 100
    },
    "colab_type": "code",
    "executionInfo": {
     "elapsed": 113849,
     "status": "ok",
     "timestamp": 1594999683893,
     "user": {
      "displayName": "Giovanna Saracino",
      "photoUrl": "https://lh3.googleusercontent.com/a-/AOh14GjOgaqMg6QF02c0He6UQ1Y885ln_mhB1hDVn9BW=s64",
      "userId": "03527749062297138909"
     },
     "user_tz": -120
    },
    "id": "t_cM5RW4GQx1",
    "outputId": "0a0272ca-230c-4d5a-d5ef-4e38f87c0f0f"
   },
   "outputs": [
    {
     "data": {
      "text/plain": [
       "funded         1350340\n",
       "expired          59081\n",
       "refunded          6578\n",
       "fundRaising       3608\n",
       "Name: status, dtype: int64"
      ]
     },
     "execution_count": 10,
     "metadata": {},
     "output_type": "execute_result"
    }
   ],
   "source": [
    "loans.status.value_counts()"
   ]
  },
  {
   "cell_type": "markdown",
   "metadata": {
    "colab_type": "text",
    "id": "2mlLodKlIx_o"
   },
   "source": [
    "Per ottenere i lenders che hanno investito almeno due volte, bisogna effettuare un merge tra i df *loans* e *loans_lenders_normalized*. \n",
    "\n",
    "Sul df *loans* trovo tutti i loan_id il cui stato è **funded**, e successivamente seleziono i lender che hanno effettuato un prestito **almeno due volte**."
   ]
  },
  {
   "cell_type": "code",
   "execution_count": 11,
   "metadata": {
    "colab": {
     "base_uri": "https://localhost:8080/",
     "height": 217
    },
    "colab_type": "code",
    "executionInfo": {
     "elapsed": 134782,
     "status": "ok",
     "timestamp": 1594999705150,
     "user": {
      "displayName": "Giovanna Saracino",
      "photoUrl": "https://lh3.googleusercontent.com/a-/AOh14GjOgaqMg6QF02c0He6UQ1Y885ln_mhB1hDVn9BW=s64",
      "userId": "03527749062297138909"
     },
     "user_tz": -120
    },
    "id": "Tto5ThCZOsjr",
    "outputId": "d6e7e410-4d74-4a61-d6a2-4dccef59d3a0"
   },
   "outputs": [
    {
     "data": {
      "text/html": [
       "<div>\n",
       "<style scoped>\n",
       "    .dataframe tbody tr th:only-of-type {\n",
       "        vertical-align: middle;\n",
       "    }\n",
       "\n",
       "    .dataframe tbody tr th {\n",
       "        vertical-align: top;\n",
       "    }\n",
       "\n",
       "    .dataframe thead th {\n",
       "        text-align: right;\n",
       "    }\n",
       "</style>\n",
       "<table border=\"1\" class=\"dataframe\">\n",
       "  <thead>\n",
       "    <tr style=\"text-align: right;\">\n",
       "      <th></th>\n",
       "      <th>loan_id</th>\n",
       "      <th>lenders</th>\n",
       "    </tr>\n",
       "  </thead>\n",
       "  <tbody>\n",
       "    <tr>\n",
       "      <th>0</th>\n",
       "      <td>657307</td>\n",
       "      <td>spencer5657</td>\n",
       "    </tr>\n",
       "    <tr>\n",
       "      <th>1</th>\n",
       "      <td>657307</td>\n",
       "      <td>matthew8640</td>\n",
       "    </tr>\n",
       "    <tr>\n",
       "      <th>2</th>\n",
       "      <td>657307</td>\n",
       "      <td>larry71496105</td>\n",
       "    </tr>\n",
       "    <tr>\n",
       "      <th>3</th>\n",
       "      <td>657259</td>\n",
       "      <td>ltr</td>\n",
       "    </tr>\n",
       "    <tr>\n",
       "      <th>4</th>\n",
       "      <td>657259</td>\n",
       "      <td>andrew5306</td>\n",
       "    </tr>\n",
       "  </tbody>\n",
       "</table>\n",
       "</div>"
      ],
      "text/plain": [
       "   loan_id        lenders\n",
       "0   657307    spencer5657\n",
       "1   657307    matthew8640\n",
       "2   657307  larry71496105\n",
       "3   657259            ltr\n",
       "4   657259     andrew5306"
      ]
     },
     "execution_count": 11,
     "metadata": {},
     "output_type": "execute_result"
    }
   ],
   "source": [
    "loans_funded = pd.merge(loans['loan_id'].loc[loans['status'] == 'funded'], loans_lenders_normalized,\n",
    "                        on = 'loan_id') \n",
    "loans_funded.head()"
   ]
  },
  {
   "cell_type": "code",
   "execution_count": 12,
   "metadata": {},
   "outputs": [
    {
     "data": {
      "text/plain": [
       "gooddogg1           167512\n",
       "trolltech4460       141268\n",
       "gmct                123164\n",
       "nms                  96713\n",
       "themissionbeltco     74067\n",
       "                     ...  \n",
       "luqq                     2\n",
       "leslie65436147           2\n",
       "scott6541                2\n",
       "trevor7891               2\n",
       "robert8294               2\n",
       "Name: lenders, Length: 893981, dtype: int64"
      ]
     },
     "execution_count": 12,
     "metadata": {},
     "output_type": "execute_result"
    }
   ],
   "source": [
    "loans_funded['lenders'].value_counts().loc[lambda x: x>=2] "
   ]
  },
  {
   "cell_type": "markdown",
   "metadata": {
    "colab_type": "text",
    "id": "HV1jn1vzPKY1"
   },
   "source": [
    "### 4) For each country, compute how many loans have involved that country as **borrowers**."
   ]
  },
  {
   "cell_type": "markdown",
   "metadata": {
    "colab_type": "text",
    "id": "JvhZcepdKalm"
   },
   "source": [
    "Per calcolare quanti prestiti hanno coinvolto un determinato Paese, si calcolano le occorrenze di ogni Paese nel dataframe *loans*."
   ]
  },
  {
   "cell_type": "code",
   "execution_count": 13,
   "metadata": {},
   "outputs": [
    {
     "name": "stdout",
     "output_type": "stream",
     "text": [
      "Number of rows in loans:  1419607\n",
      "Unique values of loan_id:  1419607\n"
     ]
    }
   ],
   "source": [
    "print(\"Number of rows in loans: \",loans.shape[0])\n",
    "print(\"Unique values of loan_id: \", len(loans['loan_id'].unique()))"
   ]
  },
  {
   "cell_type": "code",
   "execution_count": 14,
   "metadata": {
    "colab": {
     "base_uri": "https://localhost:8080/",
     "height": 217
    },
    "colab_type": "code",
    "executionInfo": {
     "elapsed": 134444,
     "status": "ok",
     "timestamp": 1594999705153,
     "user": {
      "displayName": "Giovanna Saracino",
      "photoUrl": "https://lh3.googleusercontent.com/a-/AOh14GjOgaqMg6QF02c0He6UQ1Y885ln_mhB1hDVn9BW=s64",
      "userId": "03527749062297138909"
     },
     "user_tz": -120
    },
    "id": "tyMJpiWxOrIB",
    "outputId": "2f6a11d7-5d70-4bf8-a601-a995f3c16654"
   },
   "outputs": [
    {
     "data": {
      "text/plain": [
       "Philippines         285336\n",
       "Kenya               143699\n",
       "Peru                 86000\n",
       "Cambodia             79701\n",
       "El Salvador          64037\n",
       "                     ...  \n",
       "Papua New Guinea         1\n",
       "Botswana                 1\n",
       "Canada                   1\n",
       "Uruguay                  1\n",
       "Mauritania               1\n",
       "Name: country_name, Length: 96, dtype: int64"
      ]
     },
     "execution_count": 14,
     "metadata": {},
     "output_type": "execute_result"
    }
   ],
   "source": [
    "loans['country_name'].value_counts()\n",
    "#1 loans per row"
   ]
  },
  {
   "cell_type": "markdown",
   "metadata": {
    "colab_type": "text",
    "id": "NAoMybWYPV0-"
   },
   "source": [
    "### 5) For each country, compute the **overall amount of money borrowed**."
   ]
  },
  {
   "cell_type": "markdown",
   "metadata": {
    "colab_type": "text",
    "id": "JWAgch_GMCic"
   },
   "source": [
    "Per calcolare l'importo complessivo del denaro *preso in prestito* per ogni Paese, **raggruppo per *country_name*** e **sommo l'importo del prestito**."
   ]
  },
  {
   "cell_type": "code",
   "execution_count": 15,
   "metadata": {
    "colab": {
     "base_uri": "https://localhost:8080/",
     "height": 407
    },
    "colab_type": "code",
    "executionInfo": {
     "elapsed": 134266,
     "status": "ok",
     "timestamp": 1594999705383,
     "user": {
      "displayName": "Giovanna Saracino",
      "photoUrl": "https://lh3.googleusercontent.com/a-/AOh14GjOgaqMg6QF02c0He6UQ1Y885ln_mhB1hDVn9BW=s64",
      "userId": "03527749062297138909"
     },
     "user_tz": -120
    },
    "id": "KU9ZVVnuPbcl",
    "outputId": "d3eefdd0-faf2-4bb6-c6d5-837207ea567b"
   },
   "outputs": [
    {
     "data": {
      "text/plain": [
       "country_name\n",
       "Afghanistan        1967950.0\n",
       "Albania            4307350.0\n",
       "Armenia           22950475.0\n",
       "Azerbaijan        14784625.0\n",
       "Belize              150175.0\n",
       "                     ...    \n",
       "Vietnam           24681100.0\n",
       "Virgin Islands       10000.0\n",
       "Yemen              3444000.0\n",
       "Zambia             1978975.0\n",
       "Zimbabwe           5851875.0\n",
       "Name: loan_amount, Length: 96, dtype: float64"
      ]
     },
     "execution_count": 15,
     "metadata": {},
     "output_type": "execute_result"
    }
   ],
   "source": [
    "country_amount = loans.groupby('country_name')['loan_amount'].sum()#.reset_index()\n",
    "\n",
    "country_amount"
   ]
  },
  {
   "cell_type": "markdown",
   "metadata": {
    "colab_type": "text",
    "id": "NmqBIOkPPedr"
   },
   "source": [
    "### 6) Like the previous point, but expressed as a **percentage of the overall amount lent**."
   ]
  },
  {
   "cell_type": "markdown",
   "metadata": {},
   "source": [
    "A differenza del punto precedente, considero gli importi che sono stati *prestati*. Quindi, seleziono l'attributo *funded_amount* che è l'importo finanziato. Infine, calcolo la **percentuale** di denaro prestato sul denaro preso in prestito."
   ]
  },
  {
   "cell_type": "code",
   "execution_count": 16,
   "metadata": {
    "colab": {
     "base_uri": "https://localhost:8080/",
     "height": 407
    },
    "colab_type": "code",
    "executionInfo": {
     "elapsed": 134043,
     "status": "ok",
     "timestamp": 1594999705385,
     "user": {
      "displayName": "Giovanna Saracino",
      "photoUrl": "https://lh3.googleusercontent.com/a-/AOh14GjOgaqMg6QF02c0He6UQ1Y885ln_mhB1hDVn9BW=s64",
      "userId": "03527749062297138909"
     },
     "user_tz": -120
    },
    "id": "G8iH49MpMxri",
    "outputId": "91205388-5a7c-4702-e6a2-de2d1cf0c69f"
   },
   "outputs": [
    {
     "data": {
      "text/plain": [
       "country_name\n",
       "Afghanistan       0.998323\n",
       "Albania           0.926898\n",
       "Armenia           0.883846\n",
       "Azerbaijan        0.959872\n",
       "Belize            1.000000\n",
       "                    ...   \n",
       "Vietnam           0.950680\n",
       "Virgin Islands    0.000000\n",
       "Yemen             0.969810\n",
       "Zambia            0.966788\n",
       "Zimbabwe          0.994305\n",
       "Length: 96, dtype: float64"
      ]
     },
     "execution_count": 16,
     "metadata": {},
     "output_type": "execute_result"
    }
   ],
   "source": [
    "country_lent = loans.groupby('country_name')['funded_amount'].sum()\n",
    "\n",
    "country_lent / country_amount"
   ]
  },
  {
   "cell_type": "markdown",
   "metadata": {
    "colab_type": "text",
    "id": "r7x8O2dZPp74"
   },
   "source": [
    "### 7) Like the three previous points, but **split for each year** (with respect to disburse time)."
   ]
  },
  {
   "cell_type": "markdown",
   "metadata": {
    "colab_type": "text",
    "id": "EMBaa_nw8xG4"
   },
   "source": [
    "\n",
    "\n",
    "*   Per ogni *country_name* e *year* di erogazione, calcolo quanti loan hanno coinvolto un determinato Paese come \"debitore\"\n",
    "\n",
    "Poichè nel df loan ogni riga corrisponde ad un loan diverso, utilizzo la funzione **size** che restituisce il numero di righe, cioè il numero di loan per *country_name* e *disburse_year*\n"
   ]
  },
  {
   "cell_type": "code",
   "execution_count": 17,
   "metadata": {},
   "outputs": [
    {
     "name": "stdout",
     "output_type": "stream",
     "text": [
      "Unique loan_id:  1419607\n",
      "Number of rows of loans dataframe:  1419607\n"
     ]
    }
   ],
   "source": [
    "print( \"Unique loan_id: \", len(loans['loan_id'].unique()))\n",
    "print(\"Number of rows of loans dataframe: \", loans.shape[0])"
   ]
  },
  {
   "cell_type": "code",
   "execution_count": 18,
   "metadata": {
    "colab": {},
    "colab_type": "code",
    "executionInfo": {
     "elapsed": 134043,
     "status": "ok",
     "timestamp": 1594999705806,
     "user": {
      "displayName": "Giovanna Saracino",
      "photoUrl": "https://lh3.googleusercontent.com/a-/AOh14GjOgaqMg6QF02c0He6UQ1Y885ln_mhB1hDVn9BW=s64",
      "userId": "03527749062297138909"
     },
     "user_tz": -120
    },
    "id": "JgXyk66uPv5l"
   },
   "outputs": [],
   "source": [
    "loans[\"disburse_year\"]= pd.to_datetime(loans[\"disburse_time\"]).dt.year"
   ]
  },
  {
   "cell_type": "code",
   "execution_count": 19,
   "metadata": {
    "colab": {
     "base_uri": "https://localhost:8080/",
     "height": 233
    },
    "colab_type": "code",
    "executionInfo": {
     "elapsed": 134156,
     "status": "ok",
     "timestamp": 1594999706045,
     "user": {
      "displayName": "Giovanna Saracino",
      "photoUrl": "https://lh3.googleusercontent.com/a-/AOh14GjOgaqMg6QF02c0He6UQ1Y885ln_mhB1hDVn9BW=s64",
      "userId": "03527749062297138909"
     },
     "user_tz": -120
    },
    "id": "T0Zg4qgPQBnL",
    "outputId": "ddde0cf2-15b9-4497-8d66-262bd352a906"
   },
   "outputs": [
    {
     "data": {
      "text/plain": [
       "country_name  disburse_year\n",
       "Afghanistan   2007.0            408\n",
       "              2008.0            370\n",
       "              2009.0            678\n",
       "              2010.0            632\n",
       "              2011.0            247\n",
       "                               ... \n",
       "Zimbabwe      2013.0            426\n",
       "              2014.0           2078\n",
       "              2015.0            600\n",
       "              2016.0            808\n",
       "              2017.0           1079\n",
       "Length: 748, dtype: int64"
      ]
     },
     "execution_count": 19,
     "metadata": {},
     "output_type": "execute_result"
    }
   ],
   "source": [
    "loans.groupby(['country_name', 'disburse_year']).size() "
   ]
  },
  {
   "cell_type": "markdown",
   "metadata": {
    "colab_type": "text",
    "id": "cja77LtlQEDF"
   },
   "source": [
    "*  Per ogni Paese, calcolo l'**importo totale** di denaro preso in prestito **per anno**. "
   ]
  },
  {
   "cell_type": "code",
   "execution_count": 20,
   "metadata": {
    "colab": {
     "base_uri": "https://localhost:8080/",
     "height": 233
    },
    "colab_type": "code",
    "executionInfo": {
     "elapsed": 133974,
     "status": "ok",
     "timestamp": 1594999706374,
     "user": {
      "displayName": "Giovanna Saracino",
      "photoUrl": "https://lh3.googleusercontent.com/a-/AOh14GjOgaqMg6QF02c0He6UQ1Y885ln_mhB1hDVn9BW=s64",
      "userId": "03527749062297138909"
     },
     "user_tz": -120
    },
    "id": "C7Slq_DPQHKy",
    "outputId": "23461f4e-66f6-4996-9ae3-a69c7e21b72e"
   },
   "outputs": [
    {
     "data": {
      "text/plain": [
       "country_name  disburse_year\n",
       "Afghanistan   2007.0            194975.0\n",
       "              2008.0            365375.0\n",
       "              2009.0            585125.0\n",
       "              2010.0            563350.0\n",
       "              2011.0            245125.0\n",
       "                                 ...    \n",
       "Zimbabwe      2013.0            678525.0\n",
       "              2014.0           1311575.0\n",
       "              2015.0            723625.0\n",
       "              2016.0            788600.0\n",
       "              2017.0           1237600.0\n",
       "Name: loan_amount, Length: 748, dtype: float64"
      ]
     },
     "execution_count": 20,
     "metadata": {},
     "output_type": "execute_result"
    }
   ],
   "source": [
    "loans.groupby(['country_name', 'disburse_year'])['loan_amount'].sum()"
   ]
  },
  {
   "cell_type": "markdown",
   "metadata": {
    "colab_type": "text",
    "id": "mHC9eU6mQK42"
   },
   "source": [
    "*  Come i punti precedenti, ma espresso come **percentuale** di denaro totale preso in prestito.\n",
    "\n",
    "\n",
    "Dunque, divido l'ammontare del denaro **prestato** sull'ammontare del denaro **preso in prestito** e lo esprimo in percentuale"
   ]
  },
  {
   "cell_type": "code",
   "execution_count": 21,
   "metadata": {
    "colab": {
     "base_uri": "https://localhost:8080/",
     "height": 233
    },
    "colab_type": "code",
    "executionInfo": {
     "elapsed": 133679,
     "status": "ok",
     "timestamp": 1594999706375,
     "user": {
      "displayName": "Giovanna Saracino",
      "photoUrl": "https://lh3.googleusercontent.com/a-/AOh14GjOgaqMg6QF02c0He6UQ1Y885ln_mhB1hDVn9BW=s64",
      "userId": "03527749062297138909"
     },
     "user_tz": -120
    },
    "id": "Io1jsBvSQKOE",
    "outputId": "7c2aa812-8706-4cb7-943c-ac0ffa2a6a0a"
   },
   "outputs": [
    {
     "data": {
      "text/plain": [
       "country_name  disburse_year\n",
       "Afghanistan   2007.0           0.016503\n",
       "              2008.0           0.030926\n",
       "              2009.0           0.049247\n",
       "              2010.0           0.047683\n",
       "              2011.0           0.020748\n",
       "                                 ...   \n",
       "Zimbabwe      2013.0           0.057432\n",
       "              2014.0           0.110710\n",
       "              2015.0           0.061209\n",
       "              2016.0           0.066660\n",
       "              2017.0           0.102767\n",
       "Name: funded_amount, Length: 748, dtype: float64"
      ]
     },
     "execution_count": 21,
     "metadata": {},
     "output_type": "execute_result"
    }
   ],
   "source": [
    "(loans.groupby(['country_name', 'disburse_year'])['funded_amount'].sum() / loans['loan_amount'].sum()) * 100"
   ]
  },
  {
   "cell_type": "markdown",
   "metadata": {
    "colab_type": "text",
    "id": "-DSwwWZ5QW2e"
   },
   "source": [
    "### 8) For each lender, compute the **overall amount of money lent**. For each loan that has more than one lender, you must assume that all lenders contributed the same amount"
   ]
  },
  {
   "cell_type": "markdown",
   "metadata": {
    "colab_type": "text",
    "id": "-TFZwJtAPOl9"
   },
   "source": [
    "\n",
    "\n",
    "1.   Unisco i df *loans* e *loans_lenders_normalizes*\n",
    "2.   Calcolo il contributo di ogni membro per loan (assumendo che a ogni lender corrisponde la stessa somma)\n",
    "3.  Infine, raggruppo per lender e sommo il denaro\n",
    "\n"
   ]
  },
  {
   "cell_type": "code",
   "execution_count": 22,
   "metadata": {
    "colab": {},
    "colab_type": "code",
    "executionInfo": {
     "elapsed": 136404,
     "status": "ok",
     "timestamp": 1594999710221,
     "user": {
      "displayName": "Giovanna Saracino",
      "photoUrl": "https://lh3.googleusercontent.com/a-/AOh14GjOgaqMg6QF02c0He6UQ1Y885ln_mhB1hDVn9BW=s64",
      "userId": "03527749062297138909"
     },
     "user_tz": -120
    },
    "id": "4fSzeD-UQamV"
   },
   "outputs": [],
   "source": [
    "lent_lenders = pd.merge(loans_lenders_normalized, loans[['loan_id', 'funded_amount', 'num_lenders_total']], \n",
    "                              on = 'loan_id')"
   ]
  },
  {
   "cell_type": "code",
   "execution_count": 23,
   "metadata": {
    "colab": {
     "base_uri": "https://localhost:8080/",
     "height": 197
    },
    "colab_type": "code",
    "executionInfo": {
     "elapsed": 136231,
     "status": "ok",
     "timestamp": 1594999710223,
     "user": {
      "displayName": "Giovanna Saracino",
      "photoUrl": "https://lh3.googleusercontent.com/a-/AOh14GjOgaqMg6QF02c0He6UQ1Y885ln_mhB1hDVn9BW=s64",
      "userId": "03527749062297138909"
     },
     "user_tz": -120
    },
    "id": "6NBAMYZiPN7Q",
    "outputId": "8785fd0a-2019-4bc2-c1f9-28f18d208f94"
   },
   "outputs": [
    {
     "data": {
      "text/html": [
       "<div>\n",
       "<style scoped>\n",
       "    .dataframe tbody tr th:only-of-type {\n",
       "        vertical-align: middle;\n",
       "    }\n",
       "\n",
       "    .dataframe tbody tr th {\n",
       "        vertical-align: top;\n",
       "    }\n",
       "\n",
       "    .dataframe thead th {\n",
       "        text-align: right;\n",
       "    }\n",
       "</style>\n",
       "<table border=\"1\" class=\"dataframe\">\n",
       "  <thead>\n",
       "    <tr style=\"text-align: right;\">\n",
       "      <th></th>\n",
       "      <th>loan_id</th>\n",
       "      <th>lenders</th>\n",
       "      <th>funded_amount</th>\n",
       "      <th>num_lenders_total</th>\n",
       "    </tr>\n",
       "  </thead>\n",
       "  <tbody>\n",
       "    <tr>\n",
       "      <th>0</th>\n",
       "      <td>483693</td>\n",
       "      <td>muc888</td>\n",
       "      <td>1225.0</td>\n",
       "      <td>44</td>\n",
       "    </tr>\n",
       "    <tr>\n",
       "      <th>1</th>\n",
       "      <td>483693</td>\n",
       "      <td>sam4326</td>\n",
       "      <td>1225.0</td>\n",
       "      <td>44</td>\n",
       "    </tr>\n",
       "    <tr>\n",
       "      <th>2</th>\n",
       "      <td>483693</td>\n",
       "      <td>camaran3922</td>\n",
       "      <td>1225.0</td>\n",
       "      <td>44</td>\n",
       "    </tr>\n",
       "    <tr>\n",
       "      <th>3</th>\n",
       "      <td>483693</td>\n",
       "      <td>lachheb1865</td>\n",
       "      <td>1225.0</td>\n",
       "      <td>44</td>\n",
       "    </tr>\n",
       "    <tr>\n",
       "      <th>4</th>\n",
       "      <td>483693</td>\n",
       "      <td>rebecca3499</td>\n",
       "      <td>1225.0</td>\n",
       "      <td>44</td>\n",
       "    </tr>\n",
       "  </tbody>\n",
       "</table>\n",
       "</div>"
      ],
      "text/plain": [
       "   loan_id      lenders  funded_amount  num_lenders_total\n",
       "0   483693       muc888         1225.0                 44\n",
       "1   483693      sam4326         1225.0                 44\n",
       "2   483693  camaran3922         1225.0                 44\n",
       "3   483693  lachheb1865         1225.0                 44\n",
       "4   483693  rebecca3499         1225.0                 44"
      ]
     },
     "execution_count": 23,
     "metadata": {},
     "output_type": "execute_result"
    }
   ],
   "source": [
    "lent_lenders.head(5)"
   ]
  },
  {
   "cell_type": "code",
   "execution_count": 24,
   "metadata": {
    "colab": {},
    "colab_type": "code",
    "executionInfo": {
     "elapsed": 136101,
     "status": "ok",
     "timestamp": 1594999710223,
     "user": {
      "displayName": "Giovanna Saracino",
      "photoUrl": "https://lh3.googleusercontent.com/a-/AOh14GjOgaqMg6QF02c0He6UQ1Y885ln_mhB1hDVn9BW=s64",
      "userId": "03527749062297138909"
     },
     "user_tz": -120
    },
    "id": "DKvCpJHyFQH7"
   },
   "outputs": [],
   "source": [
    "lent_lenders['lender_contribution'] = lent_lenders['funded_amount'] / lent_lenders['num_lenders_total']"
   ]
  },
  {
   "cell_type": "code",
   "execution_count": 25,
   "metadata": {
    "colab": {
     "base_uri": "https://localhost:8080/",
     "height": 197
    },
    "colab_type": "code",
    "executionInfo": {
     "elapsed": 135969,
     "status": "ok",
     "timestamp": 1594999710224,
     "user": {
      "displayName": "Giovanna Saracino",
      "photoUrl": "https://lh3.googleusercontent.com/a-/AOh14GjOgaqMg6QF02c0He6UQ1Y885ln_mhB1hDVn9BW=s64",
      "userId": "03527749062297138909"
     },
     "user_tz": -120
    },
    "id": "TmYc5On_MyaW",
    "outputId": "2ee650f4-1a07-4d87-b6ef-13b1a025fb67"
   },
   "outputs": [
    {
     "data": {
      "text/html": [
       "<div>\n",
       "<style scoped>\n",
       "    .dataframe tbody tr th:only-of-type {\n",
       "        vertical-align: middle;\n",
       "    }\n",
       "\n",
       "    .dataframe tbody tr th {\n",
       "        vertical-align: top;\n",
       "    }\n",
       "\n",
       "    .dataframe thead th {\n",
       "        text-align: right;\n",
       "    }\n",
       "</style>\n",
       "<table border=\"1\" class=\"dataframe\">\n",
       "  <thead>\n",
       "    <tr style=\"text-align: right;\">\n",
       "      <th></th>\n",
       "      <th>loan_id</th>\n",
       "      <th>lenders</th>\n",
       "      <th>funded_amount</th>\n",
       "      <th>num_lenders_total</th>\n",
       "      <th>lender_contribution</th>\n",
       "    </tr>\n",
       "  </thead>\n",
       "  <tbody>\n",
       "    <tr>\n",
       "      <th>0</th>\n",
       "      <td>483693</td>\n",
       "      <td>muc888</td>\n",
       "      <td>1225.0</td>\n",
       "      <td>44</td>\n",
       "      <td>27.840909</td>\n",
       "    </tr>\n",
       "    <tr>\n",
       "      <th>1</th>\n",
       "      <td>483693</td>\n",
       "      <td>sam4326</td>\n",
       "      <td>1225.0</td>\n",
       "      <td>44</td>\n",
       "      <td>27.840909</td>\n",
       "    </tr>\n",
       "    <tr>\n",
       "      <th>2</th>\n",
       "      <td>483693</td>\n",
       "      <td>camaran3922</td>\n",
       "      <td>1225.0</td>\n",
       "      <td>44</td>\n",
       "      <td>27.840909</td>\n",
       "    </tr>\n",
       "    <tr>\n",
       "      <th>3</th>\n",
       "      <td>483693</td>\n",
       "      <td>lachheb1865</td>\n",
       "      <td>1225.0</td>\n",
       "      <td>44</td>\n",
       "      <td>27.840909</td>\n",
       "    </tr>\n",
       "    <tr>\n",
       "      <th>4</th>\n",
       "      <td>483693</td>\n",
       "      <td>rebecca3499</td>\n",
       "      <td>1225.0</td>\n",
       "      <td>44</td>\n",
       "      <td>27.840909</td>\n",
       "    </tr>\n",
       "  </tbody>\n",
       "</table>\n",
       "</div>"
      ],
      "text/plain": [
       "   loan_id      lenders  funded_amount  num_lenders_total  lender_contribution\n",
       "0   483693       muc888         1225.0                 44            27.840909\n",
       "1   483693      sam4326         1225.0                 44            27.840909\n",
       "2   483693  camaran3922         1225.0                 44            27.840909\n",
       "3   483693  lachheb1865         1225.0                 44            27.840909\n",
       "4   483693  rebecca3499         1225.0                 44            27.840909"
      ]
     },
     "execution_count": 25,
     "metadata": {},
     "output_type": "execute_result"
    }
   ],
   "source": [
    "lent_lenders.head()"
   ]
  },
  {
   "cell_type": "code",
   "execution_count": 26,
   "metadata": {
    "colab": {
     "base_uri": "https://localhost:8080/",
     "height": 407
    },
    "colab_type": "code",
    "executionInfo": {
     "elapsed": 150434,
     "status": "ok",
     "timestamp": 1594999724847,
     "user": {
      "displayName": "Giovanna Saracino",
      "photoUrl": "https://lh3.googleusercontent.com/a-/AOh14GjOgaqMg6QF02c0He6UQ1Y885ln_mhB1hDVn9BW=s64",
      "userId": "03527749062297138909"
     },
     "user_tz": -120
    },
    "id": "QUjTXfa2FWEj",
    "outputId": "dda6a130-075e-4b7d-e269-c507ed96ecec"
   },
   "outputs": [
    {
     "data": {
      "text/html": [
       "<div>\n",
       "<style scoped>\n",
       "    .dataframe tbody tr th:only-of-type {\n",
       "        vertical-align: middle;\n",
       "    }\n",
       "\n",
       "    .dataframe tbody tr th {\n",
       "        vertical-align: top;\n",
       "    }\n",
       "\n",
       "    .dataframe thead th {\n",
       "        text-align: right;\n",
       "    }\n",
       "</style>\n",
       "<table border=\"1\" class=\"dataframe\">\n",
       "  <thead>\n",
       "    <tr style=\"text-align: right;\">\n",
       "      <th></th>\n",
       "      <th>lenders</th>\n",
       "      <th>lent</th>\n",
       "    </tr>\n",
       "  </thead>\n",
       "  <tbody>\n",
       "    <tr>\n",
       "      <th>0</th>\n",
       "      <td>000</td>\n",
       "      <td>1512.095370</td>\n",
       "    </tr>\n",
       "    <tr>\n",
       "      <th>1</th>\n",
       "      <td>00000</td>\n",
       "      <td>1249.127691</td>\n",
       "    </tr>\n",
       "    <tr>\n",
       "      <th>2</th>\n",
       "      <td>0002</td>\n",
       "      <td>2201.180463</td>\n",
       "    </tr>\n",
       "    <tr>\n",
       "      <th>3</th>\n",
       "      <td>00mike00</td>\n",
       "      <td>38.461538</td>\n",
       "    </tr>\n",
       "    <tr>\n",
       "      <th>4</th>\n",
       "      <td>0101craign0101</td>\n",
       "      <td>2424.088932</td>\n",
       "    </tr>\n",
       "    <tr>\n",
       "      <th>...</th>\n",
       "      <td>...</td>\n",
       "      <td>...</td>\n",
       "    </tr>\n",
       "    <tr>\n",
       "      <th>1383794</th>\n",
       "      <td>zzmcfate</td>\n",
       "      <td>57535.947017</td>\n",
       "    </tr>\n",
       "    <tr>\n",
       "      <th>1383795</th>\n",
       "      <td>zzpaghetti9994</td>\n",
       "      <td>44.247788</td>\n",
       "    </tr>\n",
       "    <tr>\n",
       "      <th>1383796</th>\n",
       "      <td>zzrvmf8538</td>\n",
       "      <td>480.818179</td>\n",
       "    </tr>\n",
       "    <tr>\n",
       "      <th>1383797</th>\n",
       "      <td>zzzsai</td>\n",
       "      <td>236.888048</td>\n",
       "    </tr>\n",
       "    <tr>\n",
       "      <th>1383798</th>\n",
       "      <td>zzzworld</td>\n",
       "      <td>26.315789</td>\n",
       "    </tr>\n",
       "  </tbody>\n",
       "</table>\n",
       "<p>1383799 rows × 2 columns</p>\n",
       "</div>"
      ],
      "text/plain": [
       "                lenders          lent\n",
       "0                   000   1512.095370\n",
       "1                 00000   1249.127691\n",
       "2                  0002   2201.180463\n",
       "3              00mike00     38.461538\n",
       "4        0101craign0101   2424.088932\n",
       "...                 ...           ...\n",
       "1383794        zzmcfate  57535.947017\n",
       "1383795  zzpaghetti9994     44.247788\n",
       "1383796      zzrvmf8538    480.818179\n",
       "1383797          zzzsai    236.888048\n",
       "1383798        zzzworld     26.315789\n",
       "\n",
       "[1383799 rows x 2 columns]"
      ]
     },
     "execution_count": 26,
     "metadata": {},
     "output_type": "execute_result"
    }
   ],
   "source": [
    "lent_lenders.groupby('lenders')['lender_contribution'].sum().reset_index(name = 'lent')"
   ]
  },
  {
   "cell_type": "markdown",
   "metadata": {
    "colab_type": "text",
    "id": "rfXwesDVQglM"
   },
   "source": [
    "### 9) For each country, compute the **difference between the overall amount of money lent and the overall amount of money borrowed**.\n",
    "\n",
    "##### Since the country of the lender is often unknown, you can assume that the true distribution among the countries is the same as the one computed from the rows where the country is known."
   ]
  },
  {
   "cell_type": "markdown",
   "metadata": {},
   "source": [
    "Controllo il dataset *lenders*"
   ]
  },
  {
   "cell_type": "code",
   "execution_count": 27,
   "metadata": {},
   "outputs": [
    {
     "data": {
      "text/plain": [
       "True     1458635\n",
       "False     890539\n",
       "Name: country_code, dtype: int64"
      ]
     },
     "execution_count": 27,
     "metadata": {},
     "output_type": "execute_result"
    }
   ],
   "source": [
    "lenders['country_code'].isnull().value_counts()"
   ]
  },
  {
   "cell_type": "code",
   "execution_count": 31,
   "metadata": {
    "colab": {},
    "colab_type": "code",
    "executionInfo": {
     "elapsed": 686,
     "status": "ok",
     "timestamp": 1594973139472,
     "user": {
      "displayName": "Giovanna Saracino",
      "photoUrl": "https://lh3.googleusercontent.com/a-/AOh14GjOgaqMg6QF02c0He6UQ1Y885ln_mhB1hDVn9BW=s64",
      "userId": "03527749062297138909"
     },
     "user_tz": -120
    },
    "id": "xVfa_hTWQj1E"
   },
   "outputs": [],
   "source": [
    "def found_distribution(country_code):\n",
    "    random.seed(1234)\n",
    "    results = list()\n",
    "    #country_code unique values without na\n",
    "    values = pd.unique(country_code.dropna())\n",
    "    results.append(values)\n",
    "    #prob computed as occurrences of country/number of country code\n",
    "    probs = country_code.dropna().value_counts() / len(country_code.dropna())\n",
    "    results.append(probs)\n",
    "    #index of row where the country code is null\n",
    "    index_rows_nan = country_code.index[country_code.isnull()]\n",
    "    results.append(index_rows_nan)\n",
    "    #n is the number of rows with nan\n",
    "    n = len(index_rows_nan)\n",
    "    results.append(n)\n",
    "    return (results)"
   ]
  },
  {
   "cell_type": "markdown",
   "metadata": {},
   "source": [
    "Attraverso la funzione *found_distribution()* trovo la distribuzione "
   ]
  },
  {
   "cell_type": "code",
   "execution_count": 32,
   "metadata": {
    "colab": {},
    "colab_type": "code",
    "executionInfo": {
     "elapsed": 1777,
     "status": "ok",
     "timestamp": 1594973149058,
     "user": {
      "displayName": "Giovanna Saracino",
      "photoUrl": "https://lh3.googleusercontent.com/a-/AOh14GjOgaqMg6QF02c0He6UQ1Y885ln_mhB1hDVn9BW=s64",
      "userId": "03527749062297138909"
     },
     "user_tz": -120
    },
    "id": "emGT3kxjQqae"
   },
   "outputs": [],
   "source": [
    "results_function = found_distribution(lenders['country_code'])"
   ]
  },
  {
   "cell_type": "markdown",
   "metadata": {},
   "source": [
    "Per ottenere un random country_code con una distribuzione calcolata con found_distribution() utilizzo la funzione **random.choice()** che prende in input:\n",
    "\n",
    "* array: un campione random viene generato dai suoi elementi  (country_code unique values without na)\n",
    "* probabilities: le probabilità associate ad ogni elemento nell'array (prob computed as occurrences of country/number of country code)\n",
    "* size: output shape (number of rows without na)\n",
    "* index (index of row where the country code is null)"
   ]
  },
  {
   "cell_type": "code",
   "execution_count": 33,
   "metadata": {},
   "outputs": [
    {
     "data": {
      "text/plain": [
       "0          US\n",
       "1          US\n",
       "2          US\n",
       "3          US\n",
       "4          PK\n",
       "           ..\n",
       "2349167    US\n",
       "2349168    US\n",
       "2349169    US\n",
       "2349170    US\n",
       "2349172    US\n",
       "Length: 1458635, dtype: object"
      ]
     },
     "execution_count": 33,
     "metadata": {},
     "output_type": "execute_result"
    }
   ],
   "source": [
    "random_country_code = pd.Series(np.random.choice(results_function[0], p = results_function[1],\n",
    "                                                size = results_function[3]), index = results_function[2])\n",
    "random_country_code"
   ]
  },
  {
   "cell_type": "markdown",
   "metadata": {},
   "source": [
    "Ora inserisco i *country_code* presenti in random_country_code nel dataframe *lenders.country_code* dove prima vi erano gli NA."
   ]
  },
  {
   "cell_type": "code",
   "execution_count": 34,
   "metadata": {},
   "outputs": [],
   "source": [
    "lenders['country_code'].fillna(random_country_code, inplace = True)"
   ]
  },
  {
   "cell_type": "code",
   "execution_count": 35,
   "metadata": {},
   "outputs": [
    {
     "data": {
      "text/plain": [
       "False    2349174\n",
       "Name: country_code, dtype: int64"
      ]
     },
     "execution_count": 35,
     "metadata": {},
     "output_type": "execute_result"
    }
   ],
   "source": [
    "lenders['country_code'].isna().value_counts()"
   ]
  },
  {
   "cell_type": "markdown",
   "metadata": {},
   "source": [
    "Ora, per ogni country_code, calcolo l'ammontare dei soldi **presi in prestito**"
   ]
  },
  {
   "cell_type": "code",
   "execution_count": 36,
   "metadata": {
    "colab": {},
    "colab_type": "code",
    "id": "bHT0MjiUQs9C"
   },
   "outputs": [
    {
     "data": {
      "text/html": [
       "<div>\n",
       "<style scoped>\n",
       "    .dataframe tbody tr th:only-of-type {\n",
       "        vertical-align: middle;\n",
       "    }\n",
       "\n",
       "    .dataframe tbody tr th {\n",
       "        vertical-align: top;\n",
       "    }\n",
       "\n",
       "    .dataframe thead th {\n",
       "        text-align: right;\n",
       "    }\n",
       "</style>\n",
       "<table border=\"1\" class=\"dataframe\">\n",
       "  <thead>\n",
       "    <tr style=\"text-align: right;\">\n",
       "      <th></th>\n",
       "      <th>country_code</th>\n",
       "      <th>borrowed</th>\n",
       "    </tr>\n",
       "  </thead>\n",
       "  <tbody>\n",
       "    <tr>\n",
       "      <th>0</th>\n",
       "      <td>AF</td>\n",
       "      <td>1967950.0</td>\n",
       "    </tr>\n",
       "    <tr>\n",
       "      <th>1</th>\n",
       "      <td>AL</td>\n",
       "      <td>4307350.0</td>\n",
       "    </tr>\n",
       "    <tr>\n",
       "      <th>2</th>\n",
       "      <td>AM</td>\n",
       "      <td>22950475.0</td>\n",
       "    </tr>\n",
       "    <tr>\n",
       "      <th>3</th>\n",
       "      <td>AZ</td>\n",
       "      <td>14784625.0</td>\n",
       "    </tr>\n",
       "    <tr>\n",
       "      <th>4</th>\n",
       "      <td>BA</td>\n",
       "      <td>477250.0</td>\n",
       "    </tr>\n",
       "    <tr>\n",
       "      <th>...</th>\n",
       "      <td>...</td>\n",
       "      <td>...</td>\n",
       "    </tr>\n",
       "    <tr>\n",
       "      <th>90</th>\n",
       "      <td>XK</td>\n",
       "      <td>3083025.0</td>\n",
       "    </tr>\n",
       "    <tr>\n",
       "      <th>91</th>\n",
       "      <td>YE</td>\n",
       "      <td>3444000.0</td>\n",
       "    </tr>\n",
       "    <tr>\n",
       "      <th>92</th>\n",
       "      <td>ZA</td>\n",
       "      <td>1006525.0</td>\n",
       "    </tr>\n",
       "    <tr>\n",
       "      <th>93</th>\n",
       "      <td>ZM</td>\n",
       "      <td>1978975.0</td>\n",
       "    </tr>\n",
       "    <tr>\n",
       "      <th>94</th>\n",
       "      <td>ZW</td>\n",
       "      <td>5851875.0</td>\n",
       "    </tr>\n",
       "  </tbody>\n",
       "</table>\n",
       "<p>95 rows × 2 columns</p>\n",
       "</div>"
      ],
      "text/plain": [
       "   country_code    borrowed\n",
       "0            AF   1967950.0\n",
       "1            AL   4307350.0\n",
       "2            AM  22950475.0\n",
       "3            AZ  14784625.0\n",
       "4            BA    477250.0\n",
       "..          ...         ...\n",
       "90           XK   3083025.0\n",
       "91           YE   3444000.0\n",
       "92           ZA   1006525.0\n",
       "93           ZM   1978975.0\n",
       "94           ZW   5851875.0\n",
       "\n",
       "[95 rows x 2 columns]"
      ]
     },
     "execution_count": 36,
     "metadata": {},
     "output_type": "execute_result"
    }
   ],
   "source": [
    "borrowed_by_country = loans.groupby('country_code')['loan_amount'].sum().reset_index(name = 'borrowed')\n",
    "borrowed_by_country"
   ]
  },
  {
   "cell_type": "markdown",
   "metadata": {},
   "source": [
    "Per ogni country_code calcolo l'ammontare totale di denaro **prestato**. \n",
    "\n",
    "Nel df *lent_lenders* creato nel punto 8), ho l'informazione riguardante il denaro prestato da ogni lender.\n",
    "\n",
    "Dal df *lenders* seleziono solo le colonne riguardanti il nome e il country_code del lender."
   ]
  },
  {
   "cell_type": "code",
   "execution_count": 37,
   "metadata": {},
   "outputs": [
    {
     "name": "stdout",
     "output_type": "stream",
     "text": [
      "Lenders columns are:  Index(['permanent_name', 'display_name', 'city', 'state', 'country_code',\n",
      "       'member_since', 'occupation', 'loan_because', 'loan_purchase_num',\n",
      "       'invited_by', 'num_invited'],\n",
      "      dtype='object')\n",
      "***************************\n",
      "Lent lenders columns are:  Index(['loan_id', 'lenders', 'funded_amount', 'num_lenders_total',\n",
      "       'lender_contribution'],\n",
      "      dtype='object')\n"
     ]
    }
   ],
   "source": [
    "print(\"Lenders columns are: \", lenders.columns)\n",
    "print(\"***************************\")\n",
    "print(\"Lent lenders columns are: \", lent_lenders.columns)"
   ]
  },
  {
   "cell_type": "code",
   "execution_count": 38,
   "metadata": {},
   "outputs": [],
   "source": [
    "lent_lenders = pd.merge(lent_lenders, lenders[['permanent_name', 'country_code']], #lent_lenders contains funded_amount for each lenders\n",
    "                             left_on = 'lenders', right_on = 'permanent_name')"
   ]
  },
  {
   "cell_type": "code",
   "execution_count": 39,
   "metadata": {},
   "outputs": [],
   "source": [
    "pd.set_option('display.float_format', lambda x: '%.5f' % x) #format scientific notation"
   ]
  },
  {
   "cell_type": "code",
   "execution_count": 40,
   "metadata": {},
   "outputs": [],
   "source": [
    "lent_per_country = lent_lenders.groupby('country_code')['lender_contribution'].sum().reset_index(name = 'lent')"
   ]
  },
  {
   "cell_type": "markdown",
   "metadata": {},
   "source": [
    "Ora, unisco le informazioni riguardanti il denaro prestato e quello preso in prestito (borrowed). \n",
    "\n",
    "Utilizzo il df creato precedentemente *borrowed_by_country*."
   ]
  },
  {
   "cell_type": "code",
   "execution_count": 41,
   "metadata": {},
   "outputs": [
    {
     "data": {
      "text/html": [
       "<div>\n",
       "<style scoped>\n",
       "    .dataframe tbody tr th:only-of-type {\n",
       "        vertical-align: middle;\n",
       "    }\n",
       "\n",
       "    .dataframe tbody tr th {\n",
       "        vertical-align: top;\n",
       "    }\n",
       "\n",
       "    .dataframe thead th {\n",
       "        text-align: right;\n",
       "    }\n",
       "</style>\n",
       "<table border=\"1\" class=\"dataframe\">\n",
       "  <thead>\n",
       "    <tr style=\"text-align: right;\">\n",
       "      <th></th>\n",
       "      <th>country_code</th>\n",
       "      <th>lent</th>\n",
       "      <th>borrowed</th>\n",
       "      <th>difference</th>\n",
       "    </tr>\n",
       "  </thead>\n",
       "  <tbody>\n",
       "    <tr>\n",
       "      <th>0</th>\n",
       "      <td>AD</td>\n",
       "      <td>11491.70479</td>\n",
       "      <td>0.00000</td>\n",
       "      <td>11491.70479</td>\n",
       "    </tr>\n",
       "    <tr>\n",
       "      <th>1</th>\n",
       "      <td>AE</td>\n",
       "      <td>1689830.56678</td>\n",
       "      <td>0.00000</td>\n",
       "      <td>1689830.56678</td>\n",
       "    </tr>\n",
       "    <tr>\n",
       "      <th>2</th>\n",
       "      <td>AF</td>\n",
       "      <td>102534.94933</td>\n",
       "      <td>1967950.00000</td>\n",
       "      <td>-1865415.05067</td>\n",
       "    </tr>\n",
       "    <tr>\n",
       "      <th>3</th>\n",
       "      <td>AG</td>\n",
       "      <td>606.67996</td>\n",
       "      <td>0.00000</td>\n",
       "      <td>606.67996</td>\n",
       "    </tr>\n",
       "    <tr>\n",
       "      <th>4</th>\n",
       "      <td>AI</td>\n",
       "      <td>643.05934</td>\n",
       "      <td>0.00000</td>\n",
       "      <td>643.05934</td>\n",
       "    </tr>\n",
       "    <tr>\n",
       "      <th>...</th>\n",
       "      <td>...</td>\n",
       "      <td>...</td>\n",
       "      <td>...</td>\n",
       "      <td>...</td>\n",
       "    </tr>\n",
       "    <tr>\n",
       "      <th>229</th>\n",
       "      <td>YT</td>\n",
       "      <td>9554.90742</td>\n",
       "      <td>0.00000</td>\n",
       "      <td>9554.90742</td>\n",
       "    </tr>\n",
       "    <tr>\n",
       "      <th>230</th>\n",
       "      <td>ZA</td>\n",
       "      <td>487516.02248</td>\n",
       "      <td>1006525.00000</td>\n",
       "      <td>-519008.97752</td>\n",
       "    </tr>\n",
       "    <tr>\n",
       "      <th>231</th>\n",
       "      <td>ZM</td>\n",
       "      <td>33688.09131</td>\n",
       "      <td>1978975.00000</td>\n",
       "      <td>-1945286.90869</td>\n",
       "    </tr>\n",
       "    <tr>\n",
       "      <th>232</th>\n",
       "      <td>ZW</td>\n",
       "      <td>6662.86141</td>\n",
       "      <td>5851875.00000</td>\n",
       "      <td>-5845212.13859</td>\n",
       "    </tr>\n",
       "    <tr>\n",
       "      <th>233</th>\n",
       "      <td>TD</td>\n",
       "      <td>0.00000</td>\n",
       "      <td>20075.00000</td>\n",
       "      <td>-20075.00000</td>\n",
       "    </tr>\n",
       "  </tbody>\n",
       "</table>\n",
       "<p>234 rows × 4 columns</p>\n",
       "</div>"
      ],
      "text/plain": [
       "    country_code          lent      borrowed     difference\n",
       "0             AD   11491.70479       0.00000    11491.70479\n",
       "1             AE 1689830.56678       0.00000  1689830.56678\n",
       "2             AF  102534.94933 1967950.00000 -1865415.05067\n",
       "3             AG     606.67996       0.00000      606.67996\n",
       "4             AI     643.05934       0.00000      643.05934\n",
       "..           ...           ...           ...            ...\n",
       "229           YT    9554.90742       0.00000     9554.90742\n",
       "230           ZA  487516.02248 1006525.00000  -519008.97752\n",
       "231           ZM   33688.09131 1978975.00000 -1945286.90869\n",
       "232           ZW    6662.86141 5851875.00000 -5845212.13859\n",
       "233           TD       0.00000   20075.00000   -20075.00000\n",
       "\n",
       "[234 rows x 4 columns]"
      ]
     },
     "execution_count": 41,
     "metadata": {},
     "output_type": "execute_result"
    }
   ],
   "source": [
    "lent_borrowed_by_country = pd.merge(lent_per_country, borrowed_by_country, on = 'country_code', \n",
    "                                    how = 'outer')\n",
    "\n",
    "lent_borrowed_by_country.fillna(0, inplace = True)\n",
    "\n",
    "lent_borrowed_by_country['difference'] = lent_borrowed_by_country['lent'] - lent_borrowed_by_country['borrowed']\n",
    "\n",
    "lent_borrowed_by_country"
   ]
  },
  {
   "cell_type": "markdown",
   "metadata": {
    "colab_type": "text",
    "id": "iBuieLcKQwtP"
   },
   "source": [
    "### 10) Which country has the **highest ratio between the difference computed at the previous point and the population**."
   ]
  },
  {
   "cell_type": "markdown",
   "metadata": {},
   "source": [
    "Per avere informazioni riguardo al Paese con il più alto rapporto tra la differenza calcolata al punto precedente e la popolazione, visualizzo innanzitutto il dataframe *country_stats*."
   ]
  },
  {
   "cell_type": "code",
   "execution_count": 50,
   "metadata": {},
   "outputs": [
    {
     "data": {
      "text/html": [
       "<div>\n",
       "<style scoped>\n",
       "    .dataframe tbody tr th:only-of-type {\n",
       "        vertical-align: middle;\n",
       "    }\n",
       "\n",
       "    .dataframe tbody tr th {\n",
       "        vertical-align: top;\n",
       "    }\n",
       "\n",
       "    .dataframe thead th {\n",
       "        text-align: right;\n",
       "    }\n",
       "</style>\n",
       "<table border=\"1\" class=\"dataframe\">\n",
       "  <thead>\n",
       "    <tr style=\"text-align: right;\">\n",
       "      <th></th>\n",
       "      <th>country_name</th>\n",
       "      <th>country_code</th>\n",
       "      <th>country_code3</th>\n",
       "      <th>continent</th>\n",
       "      <th>region</th>\n",
       "      <th>population</th>\n",
       "      <th>population_below_poverty_line</th>\n",
       "      <th>hdi</th>\n",
       "      <th>life_expectancy</th>\n",
       "      <th>expected_years_of_schooling</th>\n",
       "      <th>mean_years_of_schooling</th>\n",
       "      <th>gni</th>\n",
       "      <th>kiva_country_name</th>\n",
       "    </tr>\n",
       "  </thead>\n",
       "  <tbody>\n",
       "    <tr>\n",
       "      <th>0</th>\n",
       "      <td>India</td>\n",
       "      <td>IN</td>\n",
       "      <td>IND</td>\n",
       "      <td>Asia</td>\n",
       "      <td>Southern Asia</td>\n",
       "      <td>1339180127</td>\n",
       "      <td>21.90000</td>\n",
       "      <td>0.62356</td>\n",
       "      <td>68.32200</td>\n",
       "      <td>11.69659</td>\n",
       "      <td>6.29883</td>\n",
       "      <td>5663.47480</td>\n",
       "      <td>India</td>\n",
       "    </tr>\n",
       "    <tr>\n",
       "      <th>1</th>\n",
       "      <td>Nigeria</td>\n",
       "      <td>NG</td>\n",
       "      <td>NGA</td>\n",
       "      <td>Africa</td>\n",
       "      <td>Western Africa</td>\n",
       "      <td>190886311</td>\n",
       "      <td>70.00000</td>\n",
       "      <td>0.52710</td>\n",
       "      <td>53.05700</td>\n",
       "      <td>9.97048</td>\n",
       "      <td>6.00000</td>\n",
       "      <td>5442.90126</td>\n",
       "      <td>Nigeria</td>\n",
       "    </tr>\n",
       "    <tr>\n",
       "      <th>2</th>\n",
       "      <td>Mexico</td>\n",
       "      <td>MX</td>\n",
       "      <td>MEX</td>\n",
       "      <td>Americas</td>\n",
       "      <td>Central America</td>\n",
       "      <td>129163276</td>\n",
       "      <td>46.20000</td>\n",
       "      <td>0.76168</td>\n",
       "      <td>76.97200</td>\n",
       "      <td>13.29909</td>\n",
       "      <td>8.55498</td>\n",
       "      <td>16383.10668</td>\n",
       "      <td>Mexico</td>\n",
       "    </tr>\n",
       "    <tr>\n",
       "      <th>3</th>\n",
       "      <td>Pakistan</td>\n",
       "      <td>PK</td>\n",
       "      <td>PAK</td>\n",
       "      <td>Asia</td>\n",
       "      <td>Southern Asia</td>\n",
       "      <td>197015955</td>\n",
       "      <td>29.50000</td>\n",
       "      <td>0.55035</td>\n",
       "      <td>66.36500</td>\n",
       "      <td>8.10691</td>\n",
       "      <td>5.08946</td>\n",
       "      <td>5031.17307</td>\n",
       "      <td>Pakistan</td>\n",
       "    </tr>\n",
       "    <tr>\n",
       "      <th>4</th>\n",
       "      <td>Bangladesh</td>\n",
       "      <td>BD</td>\n",
       "      <td>BGD</td>\n",
       "      <td>Asia</td>\n",
       "      <td>Southern Asia</td>\n",
       "      <td>164669751</td>\n",
       "      <td>31.50000</td>\n",
       "      <td>0.57882</td>\n",
       "      <td>71.98500</td>\n",
       "      <td>10.17871</td>\n",
       "      <td>5.24158</td>\n",
       "      <td>3341.49072</td>\n",
       "      <td>Bangladesh</td>\n",
       "    </tr>\n",
       "  </tbody>\n",
       "</table>\n",
       "</div>"
      ],
      "text/plain": [
       "  country_name country_code country_code3 continent           region  \\\n",
       "0        India           IN           IND      Asia    Southern Asia   \n",
       "1      Nigeria           NG           NGA    Africa   Western Africa   \n",
       "2       Mexico           MX           MEX  Americas  Central America   \n",
       "3     Pakistan           PK           PAK      Asia    Southern Asia   \n",
       "4   Bangladesh           BD           BGD      Asia    Southern Asia   \n",
       "\n",
       "   population  population_below_poverty_line     hdi  life_expectancy  \\\n",
       "0  1339180127                       21.90000 0.62356         68.32200   \n",
       "1   190886311                       70.00000 0.52710         53.05700   \n",
       "2   129163276                       46.20000 0.76168         76.97200   \n",
       "3   197015955                       29.50000 0.55035         66.36500   \n",
       "4   164669751                       31.50000 0.57882         71.98500   \n",
       "\n",
       "   expected_years_of_schooling  mean_years_of_schooling         gni  \\\n",
       "0                     11.69659                  6.29883  5663.47480   \n",
       "1                      9.97048                  6.00000  5442.90126   \n",
       "2                     13.29909                  8.55498 16383.10668   \n",
       "3                      8.10691                  5.08946  5031.17307   \n",
       "4                     10.17871                  5.24158  3341.49072   \n",
       "\n",
       "  kiva_country_name  \n",
       "0             India  \n",
       "1           Nigeria  \n",
       "2            Mexico  \n",
       "3          Pakistan  \n",
       "4        Bangladesh  "
      ]
     },
     "execution_count": 50,
     "metadata": {},
     "output_type": "execute_result"
    }
   ],
   "source": [
    "country_stats.head()"
   ]
  },
  {
   "cell_type": "markdown",
   "metadata": {},
   "source": [
    "Unisco il dataset *lent_borrowed_by_country* e il dataset *country_stats* su **country_code**. \n",
    "\n",
    "Seleziono l'attributo 'population_below_poverty_line' che servirà nel punto 11)."
   ]
  },
  {
   "cell_type": "code",
   "execution_count": 42,
   "metadata": {
    "colab": {
     "base_uri": "https://localhost:8080/",
     "height": 245
    },
    "colab_type": "code",
    "executionInfo": {
     "elapsed": 943,
     "status": "error",
     "timestamp": 1594913834300,
     "user": {
      "displayName": "Giovanna Saracino",
      "photoUrl": "https://lh3.googleusercontent.com/a-/AOh14GjOgaqMg6QF02c0He6UQ1Y885ln_mhB1hDVn9BW=s64",
      "userId": "03527749062297138909"
     },
     "user_tz": -120
    },
    "id": "SpUkxfBbQvHz",
    "outputId": "56bc9343-2e62-452c-eb25-5294868ef4a8"
   },
   "outputs": [
    {
     "data": {
      "text/plain": [
       "'NO'"
      ]
     },
     "execution_count": 42,
     "metadata": {},
     "output_type": "execute_result"
    }
   ],
   "source": [
    "lent_borrowed_by_country = pd.merge(lent_borrowed_by_country, country_stats[['country_code', 'population', \n",
    "                                    'population_below_poverty_line']], \n",
    "                                     on = 'country_code')\n",
    "\n",
    "lent_borrowed_by_country = lent_borrowed_by_country.set_index('country_code')\n",
    "\n",
    "#idxmax() return index of first occurrence of maximum\n",
    "(lent_borrowed_by_country['difference'] / lent_borrowed_by_country['population']).idxmax()"
   ]
  },
  {
   "cell_type": "markdown",
   "metadata": {},
   "source": [
    "Il country_code 'NO' ha il rapporto più alto tra differenza e popolazione."
   ]
  },
  {
   "cell_type": "markdown",
   "metadata": {
    "colab_type": "text",
    "id": "PNZvFtGMQ6er"
   },
   "source": [
    "### 11) Which country has the **highest ratio between the difference computed at point 9 and the population that is not below the poverty line**."
   ]
  },
  {
   "cell_type": "markdown",
   "metadata": {},
   "source": [
    "Poiché la popolazione sotto la linea di povertà è espressa in percentuale, ottengo la percentuale di persone NON in povertà in questo modo:"
   ]
  },
  {
   "cell_type": "code",
   "execution_count": 43,
   "metadata": {
    "colab": {},
    "colab_type": "code",
    "id": "umRIif4dQ4sc"
   },
   "outputs": [],
   "source": [
    "lent_borrowed_by_country['population_not_below_poverty_line'] = 100 - lent_borrowed_by_country['population_below_poverty_line']"
   ]
  },
  {
   "cell_type": "markdown",
   "metadata": {},
   "source": [
    "Successivamente, calcolo il numero di abitanti che non sono sotto la soglia di povertà"
   ]
  },
  {
   "cell_type": "code",
   "execution_count": 44,
   "metadata": {},
   "outputs": [],
   "source": [
    "lent_borrowed_by_country['abs_population_not_below_poverty_line'] = (lent_borrowed_by_country['population'] * lent_borrowed_by_country['population_not_below_poverty_line']) / 100"
   ]
  },
  {
   "cell_type": "code",
   "execution_count": 45,
   "metadata": {},
   "outputs": [
    {
     "data": {
      "text/plain": [
       "'CA'"
      ]
     },
     "execution_count": 45,
     "metadata": {},
     "output_type": "execute_result"
    }
   ],
   "source": [
    " (lent_borrowed_by_country['difference'] / lent_borrowed_by_country['abs_population_not_below_poverty_line']).idxmax()"
   ]
  },
  {
   "cell_type": "markdown",
   "metadata": {},
   "source": [
    "Il paese \"CA\" ha il rapporto più alto tra la differenza e la popolazione che non è al di sotto della soglia di povertà."
   ]
  },
  {
   "cell_type": "markdown",
   "metadata": {
    "colab_type": "text",
    "id": "FE7fnfiPRDGG"
   },
   "source": [
    "### 12) For each year, compute the **total amount of loans**.\n",
    "\n",
    "\n",
    "#### Each loan that has planned expiration time and disburse time in different years must have its amount distributed proportionally to the number of days in each year. For example, a loan with disburse time December 1st, 2016, planned expiration time January 30th 2018, and amount 5000USD has an amount of 5000USD 31 / (31+365+30) = 363.85 for 2016, 5000USD 365 / (31+365+30) = 4284.04 for 2017, and 5000USD * 30 / (31+365+30) = 352.11 for 2018."
   ]
  },
  {
   "cell_type": "markdown",
   "metadata": {},
   "source": [
    "Per ottenere il numero di giorni tra la data di inizio e la data di fine, utilizzo la funzione *day_calc()*.\n",
    "\n",
    "*  Creo una lista con la prima data, il 1 Gennaio di ogni anno tra la data di inizio e la data di fine, e la data di fine.    \n",
    "*  Creo una struttura chiave-valore in cui la chiave è l'anno e il valore corrisponde al numero di giorni tra la chiave corrente e la chiave successiva. \n",
    "\n",
    "**day_calc()** restituisce il totale dei giorni che intercorrono tra date1 e date2, dividendo per anno."
   ]
  },
  {
   "cell_type": "code",
   "execution_count": 46,
   "metadata": {},
   "outputs": [],
   "source": [
    "def day_calc(date1, date2):\n",
    "    \n",
    "    #control to avoid negative values\n",
    "    (begin,end) = (date1,date2) if date1<date2 else (date2,date1) \n",
    "    \n",
    "    #create a list where the first date is the start date, the second value is Jenuary first, and so on until the end date\n",
    "    date_list = list() \n",
    "    \n",
    "    date_list.append(begin)\n",
    "    \n",
    "    #for each year between begin date and end date append 1/01/year\n",
    "    for y in range(begin.year+1, end.year+1): \n",
    "        date_list.append(pd.Timestamp(year=y, month=1, day=1, tz='utc')) \n",
    "        \n",
    "    date_list.append(end)\n",
    "\n",
    "    #create a dictionary\n",
    "    res = dict()\n",
    "    \n",
    "    #the years become the key and the value is the difference (in days) between i+1 key and i key\n",
    "    for i in range(len(date_list)-1):\n",
    "        res[date_list[i].year] = (date_list[i+1] - date_list[i]).days \n",
    "\n",
    "    #create the series in which the index is the key\n",
    "    return pd.Series(res, name='DateValue')"
   ]
  },
  {
   "cell_type": "markdown",
   "metadata": {},
   "source": [
    "Converto gli attributi *planned_expiration_time* e *disburse_time* in datetime."
   ]
  },
  {
   "cell_type": "code",
   "execution_count": 47,
   "metadata": {},
   "outputs": [],
   "source": [
    "loans['planned_expiration_time'] = pd.to_datetime(loans['planned_expiration_time'])\n",
    "loans['disburse_time'] = pd.to_datetime(loans['disburse_time'])"
   ]
  },
  {
   "cell_type": "code",
   "execution_count": 48,
   "metadata": {},
   "outputs": [
    {
     "name": "stderr",
     "output_type": "stream",
     "text": [
      "C:\\Users\\giova\\Anaconda3\\lib\\site-packages\\ipykernel_launcher.py:3: SettingWithCopyWarning: \n",
      "A value is trying to be set on a copy of a slice from a DataFrame.\n",
      "Try using .loc[row_indexer,col_indexer] = value instead\n",
      "\n",
      "See the caveats in the documentation: http://pandas.pydata.org/pandas-docs/stable/user_guide/indexing.html#returning-a-view-versus-a-copy\n",
      "  This is separate from the ipykernel package so we can avoid doing imports until\n"
     ]
    },
    {
     "data": {
      "text/html": [
       "<div>\n",
       "<style scoped>\n",
       "    .dataframe tbody tr th:only-of-type {\n",
       "        vertical-align: middle;\n",
       "    }\n",
       "\n",
       "    .dataframe tbody tr th {\n",
       "        vertical-align: top;\n",
       "    }\n",
       "\n",
       "    .dataframe thead th {\n",
       "        text-align: right;\n",
       "    }\n",
       "</style>\n",
       "<table border=\"1\" class=\"dataframe\">\n",
       "  <thead>\n",
       "    <tr style=\"text-align: right;\">\n",
       "      <th></th>\n",
       "      <th>2011</th>\n",
       "      <th>2012</th>\n",
       "      <th>2013</th>\n",
       "      <th>2014</th>\n",
       "      <th>2015</th>\n",
       "      <th>2016</th>\n",
       "      <th>2017</th>\n",
       "      <th>2018</th>\n",
       "    </tr>\n",
       "  </thead>\n",
       "  <tbody>\n",
       "    <tr>\n",
       "      <th>3</th>\n",
       "      <td>nan</td>\n",
       "      <td>nan</td>\n",
       "      <td>nan</td>\n",
       "      <td>34.00000</td>\n",
       "      <td>nan</td>\n",
       "      <td>nan</td>\n",
       "      <td>nan</td>\n",
       "      <td>nan</td>\n",
       "    </tr>\n",
       "    <tr>\n",
       "      <th>9</th>\n",
       "      <td>nan</td>\n",
       "      <td>nan</td>\n",
       "      <td>nan</td>\n",
       "      <td>68.00000</td>\n",
       "      <td>nan</td>\n",
       "      <td>nan</td>\n",
       "      <td>nan</td>\n",
       "      <td>nan</td>\n",
       "    </tr>\n",
       "    <tr>\n",
       "      <th>11</th>\n",
       "      <td>nan</td>\n",
       "      <td>nan</td>\n",
       "      <td>nan</td>\n",
       "      <td>36.00000</td>\n",
       "      <td>nan</td>\n",
       "      <td>nan</td>\n",
       "      <td>nan</td>\n",
       "      <td>nan</td>\n",
       "    </tr>\n",
       "    <tr>\n",
       "      <th>13</th>\n",
       "      <td>nan</td>\n",
       "      <td>nan</td>\n",
       "      <td>5.00000</td>\n",
       "      <td>84.00000</td>\n",
       "      <td>nan</td>\n",
       "      <td>nan</td>\n",
       "      <td>nan</td>\n",
       "      <td>nan</td>\n",
       "    </tr>\n",
       "    <tr>\n",
       "      <th>18</th>\n",
       "      <td>nan</td>\n",
       "      <td>nan</td>\n",
       "      <td>nan</td>\n",
       "      <td>nan</td>\n",
       "      <td>46.00000</td>\n",
       "      <td>nan</td>\n",
       "      <td>nan</td>\n",
       "      <td>nan</td>\n",
       "    </tr>\n",
       "  </tbody>\n",
       "</table>\n",
       "</div>"
      ],
      "text/plain": [
       "    2011  2012    2013     2014     2015  2016  2017  2018\n",
       "3    nan   nan     nan 34.00000      nan   nan   nan   nan\n",
       "9    nan   nan     nan 68.00000      nan   nan   nan   nan\n",
       "11   nan   nan     nan 36.00000      nan   nan   nan   nan\n",
       "13   nan   nan 5.00000 84.00000      nan   nan   nan   nan\n",
       "18   nan   nan     nan      nan 46.00000   nan   nan   nan"
      ]
     },
     "execution_count": 48,
     "metadata": {},
     "output_type": "execute_result"
    }
   ],
   "source": [
    "#drop na values from loan\n",
    "loans_drop = loans.dropna()\n",
    "loans_drop['duration'] = loans_drop['duration'].dt.days\n",
    "#for each loan in loans_drop \n",
    "days = loans_drop.apply(lambda x: day_calc(x['planned_expiration_time'],x['disburse_time']), axis = 1) \n",
    "days.head() #x is loan"
   ]
  },
  {
   "cell_type": "code",
   "execution_count": 49,
   "metadata": {},
   "outputs": [
    {
     "data": {
      "text/html": [
       "<div>\n",
       "<style scoped>\n",
       "    .dataframe tbody tr th:only-of-type {\n",
       "        vertical-align: middle;\n",
       "    }\n",
       "\n",
       "    .dataframe tbody tr th {\n",
       "        vertical-align: top;\n",
       "    }\n",
       "\n",
       "    .dataframe thead th {\n",
       "        text-align: right;\n",
       "    }\n",
       "</style>\n",
       "<table border=\"1\" class=\"dataframe\">\n",
       "  <thead>\n",
       "    <tr style=\"text-align: right;\">\n",
       "      <th></th>\n",
       "      <th>2011</th>\n",
       "      <th>2012</th>\n",
       "      <th>2013</th>\n",
       "      <th>2014</th>\n",
       "      <th>2015</th>\n",
       "      <th>2016</th>\n",
       "      <th>2017</th>\n",
       "      <th>2018</th>\n",
       "      <th>loan_id</th>\n",
       "      <th>loan_amount</th>\n",
       "      <th>duration</th>\n",
       "    </tr>\n",
       "  </thead>\n",
       "  <tbody>\n",
       "    <tr>\n",
       "      <th>3</th>\n",
       "      <td>0.00000</td>\n",
       "      <td>0.00000</td>\n",
       "      <td>0.00000</td>\n",
       "      <td>34.00000</td>\n",
       "      <td>0.00000</td>\n",
       "      <td>0.00000</td>\n",
       "      <td>0.00000</td>\n",
       "      <td>0.00000</td>\n",
       "      <td>659347</td>\n",
       "      <td>625.00000</td>\n",
       "      <td>35</td>\n",
       "    </tr>\n",
       "    <tr>\n",
       "      <th>9</th>\n",
       "      <td>0.00000</td>\n",
       "      <td>0.00000</td>\n",
       "      <td>0.00000</td>\n",
       "      <td>68.00000</td>\n",
       "      <td>0.00000</td>\n",
       "      <td>0.00000</td>\n",
       "      <td>0.00000</td>\n",
       "      <td>0.00000</td>\n",
       "      <td>662117</td>\n",
       "      <td>1825.00000</td>\n",
       "      <td>68</td>\n",
       "    </tr>\n",
       "    <tr>\n",
       "      <th>11</th>\n",
       "      <td>0.00000</td>\n",
       "      <td>0.00000</td>\n",
       "      <td>0.00000</td>\n",
       "      <td>36.00000</td>\n",
       "      <td>0.00000</td>\n",
       "      <td>0.00000</td>\n",
       "      <td>0.00000</td>\n",
       "      <td>0.00000</td>\n",
       "      <td>659929</td>\n",
       "      <td>950.00000</td>\n",
       "      <td>36</td>\n",
       "    </tr>\n",
       "    <tr>\n",
       "      <th>13</th>\n",
       "      <td>0.00000</td>\n",
       "      <td>0.00000</td>\n",
       "      <td>5.00000</td>\n",
       "      <td>84.00000</td>\n",
       "      <td>0.00000</td>\n",
       "      <td>0.00000</td>\n",
       "      <td>0.00000</td>\n",
       "      <td>0.00000</td>\n",
       "      <td>661165</td>\n",
       "      <td>300.00000</td>\n",
       "      <td>90</td>\n",
       "    </tr>\n",
       "    <tr>\n",
       "      <th>18</th>\n",
       "      <td>0.00000</td>\n",
       "      <td>0.00000</td>\n",
       "      <td>0.00000</td>\n",
       "      <td>0.00000</td>\n",
       "      <td>46.00000</td>\n",
       "      <td>0.00000</td>\n",
       "      <td>0.00000</td>\n",
       "      <td>0.00000</td>\n",
       "      <td>956960</td>\n",
       "      <td>375.00000</td>\n",
       "      <td>46</td>\n",
       "    </tr>\n",
       "  </tbody>\n",
       "</table>\n",
       "</div>"
      ],
      "text/plain": [
       "      2011    2012    2013     2014     2015    2016    2017    2018  loan_id  \\\n",
       "3  0.00000 0.00000 0.00000 34.00000  0.00000 0.00000 0.00000 0.00000   659347   \n",
       "9  0.00000 0.00000 0.00000 68.00000  0.00000 0.00000 0.00000 0.00000   662117   \n",
       "11 0.00000 0.00000 0.00000 36.00000  0.00000 0.00000 0.00000 0.00000   659929   \n",
       "13 0.00000 0.00000 5.00000 84.00000  0.00000 0.00000 0.00000 0.00000   661165   \n",
       "18 0.00000 0.00000 0.00000  0.00000 46.00000 0.00000 0.00000 0.00000   956960   \n",
       "\n",
       "    loan_amount  duration  \n",
       "3     625.00000        35  \n",
       "9    1825.00000        68  \n",
       "11    950.00000        36  \n",
       "13    300.00000        90  \n",
       "18    375.00000        46  "
      ]
     },
     "execution_count": 49,
     "metadata": {},
     "output_type": "execute_result"
    }
   ],
   "source": [
    "#fill na values with 0\n",
    "days.fillna(0, inplace= True)\n",
    "#concat loan_id, òpan_amount and duration\n",
    "days = pd.concat([days, loans_drop['loan_id']\n",
    "                 , loans_drop['loan_amount']\n",
    "                 , loans_drop['duration'] ]\n",
    "                , axis = 1, sort = True)\n",
    "\n",
    "days.head()"
   ]
  },
  {
   "cell_type": "markdown",
   "metadata": {},
   "source": [
    "Ora posso dividere [2011,...,2018] per durata e moltiplico per *loan_amount*\n",
    "\n",
    "*  Esempio: nella tabella precedente abbiamo 5 giorni nel 2013 e 85 giorni (considerando il rounding) nel 2014 (index 13). Quindi, possiamo calcolare 5/90 x 300 = 16,6 -> questo è l'ammontare del 2013. Ora posso calcolare 85/90 x 300 = 283,4. La somma è 300"
   ]
  },
  {
   "cell_type": "code",
   "execution_count": 50,
   "metadata": {},
   "outputs": [
    {
     "data": {
      "text/html": [
       "<div>\n",
       "<style scoped>\n",
       "    .dataframe tbody tr th:only-of-type {\n",
       "        vertical-align: middle;\n",
       "    }\n",
       "\n",
       "    .dataframe tbody tr th {\n",
       "        vertical-align: top;\n",
       "    }\n",
       "\n",
       "    .dataframe thead th {\n",
       "        text-align: right;\n",
       "    }\n",
       "</style>\n",
       "<table border=\"1\" class=\"dataframe\">\n",
       "  <thead>\n",
       "    <tr style=\"text-align: right;\">\n",
       "      <th></th>\n",
       "      <th>2011</th>\n",
       "      <th>2012</th>\n",
       "      <th>2013</th>\n",
       "      <th>2014</th>\n",
       "      <th>2015</th>\n",
       "      <th>2016</th>\n",
       "      <th>2017</th>\n",
       "      <th>2018</th>\n",
       "    </tr>\n",
       "  </thead>\n",
       "  <tbody>\n",
       "    <tr>\n",
       "      <th>3</th>\n",
       "      <td>0.00000</td>\n",
       "      <td>0.00000</td>\n",
       "      <td>0.00000</td>\n",
       "      <td>607.14286</td>\n",
       "      <td>0.00000</td>\n",
       "      <td>0.00000</td>\n",
       "      <td>0.00000</td>\n",
       "      <td>0.00000</td>\n",
       "    </tr>\n",
       "    <tr>\n",
       "      <th>9</th>\n",
       "      <td>0.00000</td>\n",
       "      <td>0.00000</td>\n",
       "      <td>0.00000</td>\n",
       "      <td>1825.00000</td>\n",
       "      <td>0.00000</td>\n",
       "      <td>0.00000</td>\n",
       "      <td>0.00000</td>\n",
       "      <td>0.00000</td>\n",
       "    </tr>\n",
       "    <tr>\n",
       "      <th>11</th>\n",
       "      <td>0.00000</td>\n",
       "      <td>0.00000</td>\n",
       "      <td>0.00000</td>\n",
       "      <td>950.00000</td>\n",
       "      <td>0.00000</td>\n",
       "      <td>0.00000</td>\n",
       "      <td>0.00000</td>\n",
       "      <td>0.00000</td>\n",
       "    </tr>\n",
       "    <tr>\n",
       "      <th>13</th>\n",
       "      <td>0.00000</td>\n",
       "      <td>0.00000</td>\n",
       "      <td>16.66667</td>\n",
       "      <td>280.00000</td>\n",
       "      <td>0.00000</td>\n",
       "      <td>0.00000</td>\n",
       "      <td>0.00000</td>\n",
       "      <td>0.00000</td>\n",
       "    </tr>\n",
       "    <tr>\n",
       "      <th>18</th>\n",
       "      <td>0.00000</td>\n",
       "      <td>0.00000</td>\n",
       "      <td>0.00000</td>\n",
       "      <td>0.00000</td>\n",
       "      <td>375.00000</td>\n",
       "      <td>0.00000</td>\n",
       "      <td>0.00000</td>\n",
       "      <td>0.00000</td>\n",
       "    </tr>\n",
       "  </tbody>\n",
       "</table>\n",
       "</div>"
      ],
      "text/plain": [
       "      2011    2012     2013       2014      2015    2016    2017    2018\n",
       "3  0.00000 0.00000  0.00000  607.14286   0.00000 0.00000 0.00000 0.00000\n",
       "9  0.00000 0.00000  0.00000 1825.00000   0.00000 0.00000 0.00000 0.00000\n",
       "11 0.00000 0.00000  0.00000  950.00000   0.00000 0.00000 0.00000 0.00000\n",
       "13 0.00000 0.00000 16.66667  280.00000   0.00000 0.00000 0.00000 0.00000\n",
       "18 0.00000 0.00000  0.00000    0.00000 375.00000 0.00000 0.00000 0.00000"
      ]
     },
     "execution_count": 50,
     "metadata": {},
     "output_type": "execute_result"
    }
   ],
   "source": [
    "amounts = days[[2011,2012,2013,2014,2015,2016,2017,2018\n",
    "                        ]].div(days.duration, axis=0).mul(days.loan_amount, axis = 0)\n",
    "amounts.head()"
   ]
  },
  {
   "cell_type": "code",
   "execution_count": 51,
   "metadata": {},
   "outputs": [
    {
     "data": {
      "text/html": [
       "<div>\n",
       "<style scoped>\n",
       "    .dataframe tbody tr th:only-of-type {\n",
       "        vertical-align: middle;\n",
       "    }\n",
       "\n",
       "    .dataframe tbody tr th {\n",
       "        vertical-align: top;\n",
       "    }\n",
       "\n",
       "    .dataframe thead th {\n",
       "        text-align: right;\n",
       "    }\n",
       "</style>\n",
       "<table border=\"1\" class=\"dataframe\">\n",
       "  <thead>\n",
       "    <tr style=\"text-align: right;\">\n",
       "      <th></th>\n",
       "      <th>loan_id</th>\n",
       "      <th>Year</th>\n",
       "      <th>amount_per_year</th>\n",
       "    </tr>\n",
       "  </thead>\n",
       "  <tbody>\n",
       "    <tr>\n",
       "      <th>0</th>\n",
       "      <td>659347</td>\n",
       "      <td>2011</td>\n",
       "      <td>0.00000</td>\n",
       "    </tr>\n",
       "    <tr>\n",
       "      <th>1</th>\n",
       "      <td>662117</td>\n",
       "      <td>2011</td>\n",
       "      <td>0.00000</td>\n",
       "    </tr>\n",
       "    <tr>\n",
       "      <th>2</th>\n",
       "      <td>659929</td>\n",
       "      <td>2011</td>\n",
       "      <td>0.00000</td>\n",
       "    </tr>\n",
       "    <tr>\n",
       "      <th>3</th>\n",
       "      <td>661165</td>\n",
       "      <td>2011</td>\n",
       "      <td>0.00000</td>\n",
       "    </tr>\n",
       "    <tr>\n",
       "      <th>4</th>\n",
       "      <td>956960</td>\n",
       "      <td>2011</td>\n",
       "      <td>0.00000</td>\n",
       "    </tr>\n",
       "  </tbody>\n",
       "</table>\n",
       "</div>"
      ],
      "text/plain": [
       "   loan_id  Year  amount_per_year\n",
       "0   659347  2011          0.00000\n",
       "1   662117  2011          0.00000\n",
       "2   659929  2011          0.00000\n",
       "3   661165  2011          0.00000\n",
       "4   956960  2011          0.00000"
      ]
     },
     "execution_count": 51,
     "metadata": {},
     "output_type": "execute_result"
    }
   ],
   "source": [
    "amounts = pd.concat([days['loan_id'], amounts],  axis = 1 ) \n",
    "\n",
    "amounts = amounts.melt(id_vars=[\"loan_id\"], \n",
    "        var_name=\"Year\", \n",
    "        value_name=\"amount_per_year\") # .melt() returns an unpivot transformation on df\n",
    "amounts.head()"
   ]
  },
  {
   "cell_type": "code",
   "execution_count": 52,
   "metadata": {},
   "outputs": [
    {
     "data": {
      "text/html": [
       "<div>\n",
       "<style scoped>\n",
       "    .dataframe tbody tr th:only-of-type {\n",
       "        vertical-align: middle;\n",
       "    }\n",
       "\n",
       "    .dataframe tbody tr th {\n",
       "        vertical-align: top;\n",
       "    }\n",
       "\n",
       "    .dataframe thead th {\n",
       "        text-align: right;\n",
       "    }\n",
       "</style>\n",
       "<table border=\"1\" class=\"dataframe\">\n",
       "  <thead>\n",
       "    <tr style=\"text-align: right;\">\n",
       "      <th></th>\n",
       "      <th></th>\n",
       "      <th>amount_per_year</th>\n",
       "    </tr>\n",
       "    <tr>\n",
       "      <th>loan_id</th>\n",
       "      <th>Year</th>\n",
       "      <th></th>\n",
       "    </tr>\n",
       "  </thead>\n",
       "  <tbody>\n",
       "    <tr>\n",
       "      <th rowspan=\"5\" valign=\"top\">372752</th>\n",
       "      <th>2011</th>\n",
       "      <td>180.00000</td>\n",
       "    </tr>\n",
       "    <tr>\n",
       "      <th>2012</th>\n",
       "      <td>560.00000</td>\n",
       "    </tr>\n",
       "    <tr>\n",
       "      <th>2013</th>\n",
       "      <td>0.00000</td>\n",
       "    </tr>\n",
       "    <tr>\n",
       "      <th>2014</th>\n",
       "      <td>0.00000</td>\n",
       "    </tr>\n",
       "    <tr>\n",
       "      <th>2015</th>\n",
       "      <td>0.00000</td>\n",
       "    </tr>\n",
       "    <tr>\n",
       "      <th>...</th>\n",
       "      <th>...</th>\n",
       "      <td>...</td>\n",
       "    </tr>\n",
       "    <tr>\n",
       "      <th rowspan=\"5\" valign=\"top\">1443953</th>\n",
       "      <th>2014</th>\n",
       "      <td>0.00000</td>\n",
       "    </tr>\n",
       "    <tr>\n",
       "      <th>2015</th>\n",
       "      <td>0.00000</td>\n",
       "    </tr>\n",
       "    <tr>\n",
       "      <th>2016</th>\n",
       "      <td>0.00000</td>\n",
       "    </tr>\n",
       "    <tr>\n",
       "      <th>2017</th>\n",
       "      <td>175.00000</td>\n",
       "    </tr>\n",
       "    <tr>\n",
       "      <th>2018</th>\n",
       "      <td>700.00000</td>\n",
       "    </tr>\n",
       "  </tbody>\n",
       "</table>\n",
       "<p>3830696 rows × 1 columns</p>\n",
       "</div>"
      ],
      "text/plain": [
       "              amount_per_year\n",
       "loan_id Year                 \n",
       "372752  2011        180.00000\n",
       "        2012        560.00000\n",
       "        2013          0.00000\n",
       "        2014          0.00000\n",
       "        2015          0.00000\n",
       "...                       ...\n",
       "1443953 2014          0.00000\n",
       "        2015          0.00000\n",
       "        2016          0.00000\n",
       "        2017        175.00000\n",
       "        2018        700.00000\n",
       "\n",
       "[3830696 rows x 1 columns]"
      ]
     },
     "execution_count": 52,
     "metadata": {},
     "output_type": "execute_result"
    }
   ],
   "source": [
    "amounts.groupby(['loan_id', 'Year']).sum()"
   ]
  }
 ],
 "metadata": {
  "colab": {
   "authorship_tag": "ABX9TyMpBPGjRQ/lW9UBcNthON5q",
   "collapsed_sections": [],
   "mount_file_id": "1PtFny5ijamt0ij-2ikxg5mdSoEHi_utu",
   "name": "CS_project_841799.ipynb",
   "provenance": []
  },
  "kernelspec": {
   "display_name": "Python 3",
   "language": "python",
   "name": "python3"
  },
  "language_info": {
   "codemirror_mode": {
    "name": "ipython",
    "version": 3
   },
   "file_extension": ".py",
   "mimetype": "text/x-python",
   "name": "python",
   "nbconvert_exporter": "python",
   "pygments_lexer": "ipython3",
   "version": "3.7.3"
  }
 },
 "nbformat": 4,
 "nbformat_minor": 1
}
